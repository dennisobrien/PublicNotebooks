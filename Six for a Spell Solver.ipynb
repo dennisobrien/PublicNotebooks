{
 "cells": [
  {
   "cell_type": "markdown",
   "metadata": {},
   "source": [
    "# Six for a Spell Solver\n",
    "\n",
    "\"Six for a Spell\", by Will Shortz, appeared in the New York Times special puzzle edition December 18, 2016.\n",
    "\n",
    "> How many common words of exactly 6 letters can you find?  Words must be spelled sequentially by following the lines connecting circles.  ...  You my use a letter more than once -- but not twice in a row.  Capitalized words are not allowed.  Finding 12 words is good; 22 is excellent; 32 is genius.  Our answer list has 37 words."
   ]
  },
  {
   "cell_type": "code",
   "execution_count": 25,
   "metadata": {
    "collapsed": true
   },
   "outputs": [],
   "source": [
    "%matplotlib inline"
   ]
  },
  {
   "cell_type": "markdown",
   "metadata": {},
   "source": [
    "## The Dictionary\n",
    "\n",
    "I'll use `/usr/share/dict/words` which is freely available on Linux systems."
   ]
  },
  {
   "cell_type": "code",
   "execution_count": 5,
   "metadata": {
    "collapsed": false
   },
   "outputs": [
    {
     "name": "stdout",
     "output_type": "stream",
     "text": [
      "Luanda\r\n",
      "Luanda's\r\n",
      "Luann\r\n",
      "Luann's\r\n",
      "Lubavitcher\r\n"
     ]
    }
   ],
   "source": [
    "!head -n 9000 /usr/share/dict/words | tail -n 5"
   ]
  },
  {
   "cell_type": "code",
   "execution_count": 6,
   "metadata": {
    "collapsed": false
   },
   "outputs": [
    {
     "name": "stdout",
     "output_type": "stream",
     "text": [
      "99171 /usr/share/dict/words\r\n"
     ]
    }
   ],
   "source": [
    "!wc -l /usr/share/dict/words"
   ]
  },
  {
   "cell_type": "code",
   "execution_count": 18,
   "metadata": {
    "collapsed": false
   },
   "outputs": [
    {
     "data": {
      "text/plain": [
       "(['abacus', 'abased', 'abases', 'abated', 'abates'], 7237)"
      ]
     },
     "execution_count": 18,
     "metadata": {},
     "output_type": "execute_result"
    }
   ],
   "source": [
    "def get_words():\n",
    "    words = []\n",
    "    with open('/usr/share/dict/words', 'r') as f:\n",
    "        for word in f:\n",
    "            word = word.strip()\n",
    "            if len(word) == 6 and word == word.lower() and all([c.isalpha() for c in word]):\n",
    "                words.append(word)\n",
    "    return words\n",
    "\n",
    "words = get_words()\n",
    "words[:5], len(words)"
   ]
  },
  {
   "cell_type": "markdown",
   "metadata": {},
   "source": [
    "## The Graph\n",
    "\n",
    "The letters and connections are well suited to a graph representation.  We could use simpler data structures, but using NetworkX seems like a nice match.  And it will give me a chance to play with that library a little more."
   ]
  },
  {
   "cell_type": "code",
   "execution_count": 54,
   "metadata": {
    "collapsed": false
   },
   "outputs": [
    {
     "data": {
      "text/plain": [
       "{node(index=0, letter='c'): <matplotlib.text.Text at 0x7f9ebbc0b748>,\n",
       " node(index=1, letter='o'): <matplotlib.text.Text at 0x7f9e81fc65f8>,\n",
       " node(index=2, letter='e'): <matplotlib.text.Text at 0x7f9e81b7c898>,\n",
       " node(index=3, letter='a'): <matplotlib.text.Text at 0x7f9ebbc0afd0>,\n",
       " node(index=4, letter='r'): <matplotlib.text.Text at 0x7f9ebbc1fac8>,\n",
       " node(index=5, letter='i'): <matplotlib.text.Text at 0x7f9ebbb90908>,\n",
       " node(index=6, letter='d'): <matplotlib.text.Text at 0x7f9ebbc0b128>,\n",
       " node(index=7, letter='l'): <matplotlib.text.Text at 0x7f9e822effd0>,\n",
       " node(index=8, letter='n'): <matplotlib.text.Text at 0x7f9ebbb90cf8>,\n",
       " node(index=9, letter='e'): <matplotlib.text.Text at 0x7f9ebbc0a940>,\n",
       " node(index=10, letter='o'): <matplotlib.text.Text at 0x7f9ebbc1fd30>,\n",
       " node(index=11, letter='t'): <matplotlib.text.Text at 0x7f9ebbbac4e0>,\n",
       " node(index=12, letter='p'): <matplotlib.text.Text at 0x7f9ebbb908d0>}"
      ]
     },
     "execution_count": 54,
     "metadata": {},
     "output_type": "execute_result"
    },
    {
     "data": {
      "image/png": "[encoded data removed]",
      "text/plain": [
       "<matplotlib.figure.Figure at 0x7f9e80ab7208>"
      ]
     },
     "metadata": {},
     "output_type": "display_data"
    }
   ],
   "source": [
    "from collections import namedtuple\n",
    "import networkx as nx\n",
    "\n",
    "node = namedtuple('node', ['index', 'letter'])\n",
    "\n",
    "def get_graph():\n",
    "    G = nx.Graph()\n",
    "    pos = [\n",
    "        (1, 6), (3, 6),\n",
    "        (2, 5),\n",
    "        (1, 4), (3, 4),\n",
    "        (0, 3), (2, 3), (4, 3),\n",
    "        (1, 2), (3, 2),\n",
    "        (2, 1),        \n",
    "        (1, 0), (3, 0),\n",
    "    ]\n",
    "    nodes = [node(index=i, letter=l) for i, l in enumerate('coearidlneotp')]\n",
    "    for n, p in zip(nodes, pos):\n",
    "        G.add_node(n, letter=n.letter, pos=p)\n",
    "    def get_edges(n0, ns):\n",
    "        return [(n0, n1) for n1 in ns]\n",
    "    edges = []\n",
    "    for n0, ns in [\n",
    "        (0, (1, 2, 3, 5, 6)),\n",
    "        (1, (0, 2, 4, 6, 7)),\n",
    "        (2, (0, 1, 3, 4, 6)),\n",
    "        (3, (0, 2, 5, 6, 8)),\n",
    "        (4, (1, 2, 6, 7, 9)),\n",
    "        (5, (0, 3, 6, 8, 11)),\n",
    "        (6, (0, 1, 2, 3, 4, 5, 7, 8, 9, 10, 11, 12)),\n",
    "        (7, (1, 4, 6, 9, 12)),\n",
    "        (8, (3, 5, 6, 10, 11)),\n",
    "        (9, (4, 6, 7, 10, 12)),\n",
    "        (10, (6, 8, 9, 11, 12)),\n",
    "        (11, (5, 6, 8, 10, 12)),\n",
    "        (12, (6, 7, 9, 10, 11))\n",
    "    ]:\n",
    "        edges.extend(get_edges(n0, ns))\n",
    "    for (n0, n1) in edges:\n",
    "        G.add_edge(nodes[n0], nodes[n1])\n",
    "    return G\n",
    "\n",
    "G = get_graph()\n",
    "pos = nx.get_node_attributes(G,'pos')\n",
    "nx.draw(G, pos=pos, node_color='w',)\n",
    "nx.draw_networkx_labels(G, pos, labels={g: g.letter for g in G})"
   ]
  },
  {
   "cell_type": "markdown",
   "metadata": {},
   "source": [
    "## The Search\n",
    "\n",
    "The idea is to search depth first but abandon the search tree if it is clear that no words are possible down that path."
   ]
  },
  {
   "cell_type": "code",
   "execution_count": 76,
   "metadata": {
    "collapsed": false,
    "scrolled": false
   },
   "outputs": [
    {
     "name": "stdout",
     "output_type": "stream",
     "text": [
      "l\n",
      "['lorded', 'lorded']\n",
      "e\n",
      "['eroded', 'eroded']\n",
      "d\n",
      "['deader', 'deader', 'decade', 'decade', 'decant', 'decide', 'decide', 'decode', 'decode', 'dandle', 'dander', 'dander']\n",
      "c\n",
      "['candle', 'candor', 'candid', 'canoed', 'canton', 'cinder', 'cinder', 'cicada', 'corded', 'corded', 'cordon', 'colder', 'colder']\n",
      "e\n",
      "['eroded', 'eroded']\n",
      "a\n",
      "['adored', 'adored', 'acacia', 'acidic']\n",
      "t\n",
      "['tinder', 'tinder']\n",
      "o\n",
      "[]\n",
      "r\n",
      "['reader', 'reader', 'reread', 'recant', 'recede', 'recede', 'record', 'rococo', 'reread']\n",
      "p\n",
      "['pedant', 'people', 'peptic', 'ponder', 'ponder']\n",
      "n\n",
      "['notice', 'niacin']\n",
      "i\n",
      "[]\n",
      "o\n",
      "['ordain']\n",
      "['acacia', 'acidic', 'adored', 'candid', 'candle', 'candor', 'canoed', 'canton', 'cicada', 'cinder', 'colder', 'corded', 'cordon', 'dander', 'dandle', 'deader', 'decade', 'decant', 'decide', 'decode', 'eroded', 'lorded', 'niacin', 'notice', 'ordain', 'pedant', 'people', 'peptic', 'ponder', 'reader', 'recant', 'recede', 'record', 'reread', 'rococo', 'tinder']\n",
      "36\n"
     ]
    }
   ],
   "source": [
    "def search_bfs(G, node, words, max_len=6, prefix=None):\n",
    "    \"\"\"Search the graph `G` starting at `node` for any words in `words`\"\"\"\n",
    "    prefix = (prefix or '') + node.letter\n",
    "    # print('prefix: {}'.format(prefix))\n",
    "    candidates = []\n",
    "    for n in G[node]:\n",
    "        candidate = prefix + n.letter\n",
    "        if len(candidate) == max_len:\n",
    "            if candidate in words:\n",
    "                candidates.append(candidate)\n",
    "        else:\n",
    "            candidates.extend(search_bfs(G, n, words, max_len=max_len, prefix=prefix))\n",
    "    return candidates\n",
    "\n",
    "\n",
    "def find_words(G, words, max_len=6):\n",
    "    word_list = []\n",
    "    for node in G:\n",
    "        print(node.letter)\n",
    "        w = search_bfs(G, node, words, max_len=max_len)\n",
    "        print(w)\n",
    "        word_list.extend(w)\n",
    "    print(sorted(set(word_list)))\n",
    "    print(len(set(word_list)))\n",
    "\n",
    "find_words(G, words, max_len=6)"
   ]
  },
  {
   "cell_type": "code",
   "execution_count": null,
   "metadata": {
    "collapsed": true
   },
   "outputs": [],
   "source": []
  }
 ],
 "metadata": {
  "kernelspec": {
   "display_name": "Python (py3)",
   "language": "python",
   "name": "py3"
  },
  "language_info": {
   "codemirror_mode": {
    "name": "ipython",
    "version": 3
   },
   "file_extension": ".py",
   "mimetype": "text/x-python",
   "name": "python",
   "nbconvert_exporter": "python",
   "pygments_lexer": "ipython3",
   "version": "3.5.2"
  }
 },
 "nbformat": 4,
 "nbformat_minor": 1
}
