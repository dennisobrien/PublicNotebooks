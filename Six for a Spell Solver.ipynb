{
 "cells": [
  {
   "cell_type": "markdown",
   "metadata": {},
   "source": [
    "# Six for a Spell Solver\n",
    "\n",
    "\"Six for a Spell\", by Will Shortz, appeared in the New York Times special puzzle edition December 18, 2016.\n",
    "\n",
    "> How many common words of exactly 6 letters can you find?  Words must be spelled sequentially by following the lines connecting circles.  ...  You may use a letter more than once -- but not twice in a row.  Capitalized words are not allowed.  Finding 12 words is good; 22 is excellent; 32 is genius.  Our answer list has 37 words."
   ]
  },
  {
   "cell_type": "code",
   "execution_count": 1,
   "metadata": {
    "collapsed": true
   },
   "outputs": [],
   "source": [
    "%matplotlib inline"
   ]
  },
  {
   "cell_type": "markdown",
   "metadata": {},
   "source": [
    "## The Dictionary\n",
    "\n",
    "As with most word puzzles, the list of words to use is very important. I am only considering word sources that load from disk, since the general strategy is to iterate through many words.\n",
    "\n",
    "As I was working on this, I tried three different sources:\n",
    "- `/usr/share/dict/words` which is freely available on Linux systems.  But this is not a great source for rare words found in puzzles.\n",
    "- `enchant` - Great source of words, but it is no longer maintained.\n",
    "- `nltk` - WordNet list of words is great.\n"
   ]
  },
  {
   "cell_type": "markdown",
   "metadata": {},
   "source": [
    "### Linux dictionary"
   ]
  },
  {
   "cell_type": "code",
   "execution_count": 2,
   "metadata": {
    "collapsed": false
   },
   "outputs": [
    {
     "name": "stdout",
     "output_type": "stream",
     "text": [
      "Judaeo\n",
      "Judah\n",
      "Judah's\n",
      "Judaic\n",
      "Judaism\n"
     ]
    }
   ],
   "source": [
    "!head -n 9000 /usr/share/dict/words | tail -n 5"
   ]
  },
  {
   "cell_type": "code",
   "execution_count": 3,
   "metadata": {
    "collapsed": false
   },
   "outputs": [
    {
     "name": "stdout",
     "output_type": "stream",
     "text": [
      "102305 /usr/share/dict/words\n"
     ]
    }
   ],
   "source": [
    "!wc -l /usr/share/dict/words"
   ]
  },
  {
   "cell_type": "code",
   "execution_count": 4,
   "metadata": {
    "collapsed": false
   },
   "outputs": [
    {
     "data": {
      "text/plain": [
       "(['abacus', 'abased', 'abases', 'abated', 'abates'], 7289)"
      ]
     },
     "execution_count": 4,
     "metadata": {},
     "output_type": "execute_result"
    }
   ],
   "source": [
    "def get_words():\n",
    "    words = []\n",
    "    with open('/usr/share/dict/words', 'r') as f:\n",
    "        for word in f:\n",
    "            word = word.strip()\n",
    "            if len(word) == 6 and word == word.lower() and all([c.isalpha() for c in word]):\n",
    "                words.append(word)\n",
    "    return words\n",
    "\n",
    "\n",
    "def check_word_unix(word):\n",
    "    return word in words\n",
    "\n",
    "\n",
    "words = get_words()\n",
    "words[:5], len(words)"
   ]
  },
  {
   "cell_type": "markdown",
   "metadata": {},
   "source": [
    "### Using `enchant`\n",
    "\n",
    "`enchant` is no longer maintained.  It's a great word list for word puzzles, but better to avoid.  But I'll keep this section in for future reference.\n",
    "\n",
    "Since I was still missing at least one word compared to the New York Times, I decided to use the `enchant` module instead of the built-in dictionary `/usr/share/dict/words`."
   ]
  },
  {
   "cell_type": "code",
   "execution_count": 82,
   "metadata": {
    "collapsed": true
   },
   "outputs": [],
   "source": [
    "import enchant\n",
    "d = enchant.Dict(\"en_US\")"
   ]
  },
  {
   "cell_type": "code",
   "execution_count": 83,
   "metadata": {
    "collapsed": false
   },
   "outputs": [
    {
     "data": {
      "text/plain": [
       "True"
      ]
     },
     "execution_count": 83,
     "metadata": {},
     "output_type": "execute_result"
    }
   ],
   "source": [
    "d.check('dandle')"
   ]
  },
  {
   "cell_type": "code",
   "execution_count": 84,
   "metadata": {
    "collapsed": true
   },
   "outputs": [],
   "source": [
    "def check_word_enchant(word):\n",
    "    return d.check(word)\n"
   ]
  },
  {
   "cell_type": "markdown",
   "metadata": {},
   "source": [
    "### `nltk`\n",
    "\n",
    "`nltk` provides a word list from WordNet this is pretty comprehensive although it does not contain some very common words.  Assuming these omitted words will not be used in a word puzzle, it's a good choice."
   ]
  },
  {
   "cell_type": "code",
   "execution_count": 8,
   "metadata": {},
   "outputs": [
    {
     "name": "stderr",
     "output_type": "stream",
     "text": [
      "[nltk_data] Downloading package wordnet to /home/dennis/nltk_data...\n",
      "[nltk_data]   Package wordnet is already up-to-date!\n"
     ]
    },
    {
     "data": {
      "text/plain": [
       "True"
      ]
     },
     "execution_count": 8,
     "metadata": {},
     "output_type": "execute_result"
    }
   ],
   "source": [
    "import nltk\n",
    "nltk.download('wordnet')"
   ]
  },
  {
   "cell_type": "code",
   "execution_count": 10,
   "metadata": {},
   "outputs": [
    {
     "data": {
      "text/plain": [
       "(['abasic', 'abatic', 'abient', 'abject', 'abkhaz'], 8344)"
      ]
     },
     "execution_count": 10,
     "metadata": {},
     "output_type": "execute_result"
    }
   ],
   "source": [
    "def get_words_nltk():\n",
    "    words = []\n",
    "    for word in list(nltk.corpus.wordnet.words()):\n",
    "        # word = word.strip()\n",
    "        if len(word) == 6 and word == word.lower() and all([c.isalpha() for c in word]):\n",
    "            words.append(word)\n",
    "    return words\n",
    "\n",
    "def check_word(word):\n",
    "    return word in words_nltk\n",
    "\n",
    "words_nltk = get_words_nltk()\n",
    "words_nltk[:5], len(words_nltk)"
   ]
  },
  {
   "cell_type": "markdown",
   "metadata": {},
   "source": [
    "## The Graph\n",
    "\n",
    "The letters and connections are well suited to a graph representation.  We could use simpler data structures, but using NetworkX seems like a nice match.  And it will give me a chance to play with that library a little more."
   ]
  },
  {
   "cell_type": "code",
   "execution_count": 11,
   "metadata": {
    "collapsed": false
   },
   "outputs": [
    {
     "name": "stderr",
     "output_type": "stream",
     "text": [
      "/home/dennis/anaconda3/envs/py37/lib/python3.7/site-packages/networkx/drawing/nx_pylab.py:611: MatplotlibDeprecationWarning: isinstance(..., numbers.Number)\n",
      "  if cb.is_numlike(alpha):\n"
     ]
    },
    {
     "data": {
      "text/plain": [
       "{node(index=0, letter='c'): Text(1, 6, 'c'),\n",
       " node(index=1, letter='o'): Text(3, 6, 'o'),\n",
       " node(index=2, letter='e'): Text(2, 5, 'e'),\n",
       " node(index=3, letter='a'): Text(1, 4, 'a'),\n",
       " node(index=4, letter='r'): Text(3, 4, 'r'),\n",
       " node(index=5, letter='i'): Text(0, 3, 'i'),\n",
       " node(index=6, letter='d'): Text(2, 3, 'd'),\n",
       " node(index=7, letter='l'): Text(4, 3, 'l'),\n",
       " node(index=8, letter='n'): Text(1, 2, 'n'),\n",
       " node(index=9, letter='e'): Text(3, 2, 'e'),\n",
       " node(index=10, letter='o'): Text(2, 1, 'o'),\n",
       " node(index=11, letter='t'): Text(1, 0, 't'),\n",
       " node(index=12, letter='p'): Text(3, 0, 'p')}"
      ]
     },
     "execution_count": 11,
     "metadata": {},
     "output_type": "execute_result"
    },
    {
     "data": {
      "image/png": "[encoded data removed]",
      "text/plain": [
       "<Figure size 432x288 with 1 Axes>"
      ]
     },
     "metadata": {},
     "output_type": "display_data"
    }
   ],
   "source": [
    "from collections import namedtuple\n",
    "import networkx as nx\n",
    "\n",
    "node = namedtuple('node', ['index', 'letter'])\n",
    "\n",
    "def get_graph():\n",
    "    G = nx.Graph()\n",
    "    pos = [\n",
    "        (1, 6), (3, 6),\n",
    "        (2, 5),\n",
    "        (1, 4), (3, 4),\n",
    "        (0, 3), (2, 3), (4, 3),\n",
    "        (1, 2), (3, 2),\n",
    "        (2, 1),        \n",
    "        (1, 0), (3, 0),\n",
    "    ]\n",
    "    nodes = [node(index=i, letter=l) for i, l in enumerate('coearidlneotp')]\n",
    "    for n, p in zip(nodes, pos):\n",
    "        G.add_node(n, letter=n.letter, pos=p)\n",
    "    def get_edges(n0, ns):\n",
    "        return [(n0, n1) for n1 in ns]\n",
    "    edges = []\n",
    "    for n0, ns in [\n",
    "        (0, (1, 2, 3, 5, 6)),\n",
    "        (1, (0, 2, 4, 6, 7)),\n",
    "        (2, (0, 1, 3, 4, 6)),\n",
    "        (3, (0, 2, 5, 6, 8)),\n",
    "        (4, (1, 2, 6, 7, 9)),\n",
    "        (5, (0, 3, 6, 8, 11)),\n",
    "        (6, (0, 1, 2, 3, 4, 5, 7, 8, 9, 10, 11, 12)),\n",
    "        (7, (1, 4, 6, 9, 12)),\n",
    "        (8, (3, 5, 6, 10, 11)),\n",
    "        (9, (4, 6, 7, 10, 12)),\n",
    "        (10, (6, 8, 9, 11, 12)),\n",
    "        (11, (5, 6, 8, 10, 12)),\n",
    "        (12, (6, 7, 9, 10, 11))\n",
    "    ]:\n",
    "        edges.extend(get_edges(n0, ns))\n",
    "    for (n0, n1) in edges:\n",
    "        G.add_edge(nodes[n0], nodes[n1])\n",
    "    return G\n",
    "\n",
    "G = get_graph()\n",
    "pos = nx.get_node_attributes(G,'pos')\n",
    "nx.draw(G, pos=pos, node_color='w',)\n",
    "nx.draw_networkx_labels(G, pos, labels={g: g.letter for g in G})"
   ]
  },
  {
   "cell_type": "markdown",
   "metadata": {},
   "source": [
    "## The Search\n",
    "\n",
    "The idea is to search depth first but abandon the search tree if it is clear that no words are possible down that path."
   ]
  },
  {
   "cell_type": "code",
   "execution_count": 14,
   "metadata": {
    "collapsed": false,
    "scrolled": false
   },
   "outputs": [
    {
     "name": "stdout",
     "output_type": "stream",
     "text": [
      "c\n",
      "['cocain', 'corded', 'cordia', 'corded', 'cordon', 'canada', 'candor', 'candid', 'candle', 'canton', 'cicero', 'cicada', 'cinder', 'cinder']\n",
      "o\n",
      "['ordain']\n",
      "e\n",
      "['eroded', 'eroded', 'ederle', 'ederle']\n",
      "a\n",
      "['acorea', 'acedia', 'acacia', 'acadia', 'acidic', 'acinic', 'adorer', 'adored', 'adorer', 'adored', 'adonic', 'andean', 'anodic', 'antido', 'antido']\n",
      "r\n",
      "['rococo', 'record', 'recode', 'recode', 'recede', 'recede', 'recant', 'reader', 'reader', 'reread', 'reread']\n",
      "i\n",
      "['indian']\n",
      "d\n",
      "['decode', 'decode', 'decade', 'decade', 'decant', 'decide', 'decide', 'danaea', 'danaid', 'dander', 'dandle', 'dander', 'danton']\n",
      "l\n",
      "['lepton']\n",
      "n\n",
      "['naiant', 'nicaea', 'niacin', 'notice']\n",
      "e\n",
      "['eroded', 'eroded', 'ederle', 'ederle', 'elodea', 'eonian']\n",
      "o\n",
      "[]\n",
      "t\n",
      "['ticino', 'tinder', 'tinder', 'titian']\n",
      "p\n",
      "['pedant', 'people', 'peptic', 'ponder', 'ponder']\n",
      "Word list:\n",
      "['acacia', 'acadia', 'acedia', 'acidic', 'acinic', 'acorea', 'adonic', 'adored', 'adorer', 'andean', 'anodic', 'antido', 'canada', 'candid', 'candle', 'candor', 'canton', 'cicada', 'cicero', 'cinder', 'cocain', 'corded', 'cordia', 'cordon', 'danaea', 'danaid', 'dander', 'dandle', 'danton', 'decade', 'decant', 'decide', 'decode', 'ederle', 'elodea', 'eonian', 'eroded', 'indian', 'lepton', 'naiant', 'niacin', 'nicaea', 'notice', 'ordain', 'pedant', 'people', 'peptic', 'ponder', 'reader', 'recant', 'recede', 'recode', 'record', 'reread', 'rococo', 'ticino', 'tinder', 'titian']\n",
      "Words found: 58\n"
     ]
    }
   ],
   "source": [
    "def search_dfs(G, node, is_word, max_len=6, prefix=None):\n",
    "    \"\"\"Search the graph `G` starting at `node` for any words that pass `is_word`\"\"\"\n",
    "    prefix = (prefix or '') + node.letter\n",
    "    # print('prefix: {}'.format(prefix))\n",
    "    candidates = []\n",
    "    for n in G[node]:\n",
    "        candidate = prefix + n.letter\n",
    "        if len(candidate) == max_len:\n",
    "            if is_word(candidate):\n",
    "                candidates.append(candidate)\n",
    "        else:\n",
    "            candidates.extend(search_bfs(G, n, is_word, max_len=max_len, prefix=prefix))\n",
    "    return candidates\n",
    "\n",
    "\n",
    "def find_words(G, is_word, max_len=6):\n",
    "    word_list = []\n",
    "    for node in G:\n",
    "        print(node.letter)\n",
    "        w = search_dfs(G, node, is_word=is_word, max_len=max_len)\n",
    "        print(w)\n",
    "        word_list.extend(w)\n",
    "    print('Word list:')\n",
    "    print(sorted(set(word_list)))\n",
    "    print('Words found:', len(set(word_list)))\n",
    "\n",
    "find_words(G, is_word=check_word, max_len=6)"
   ]
  },
  {
   "cell_type": "code",
   "execution_count": null,
   "metadata": {
    "collapsed": true
   },
   "outputs": [],
   "source": []
  }
 ],
 "metadata": {
  "kernelspec": {
   "display_name": "py37",
   "language": "python",
   "name": "python3"
  },
  "language_info": {
   "codemirror_mode": {
    "name": "ipython",
    "version": 3
   },
   "file_extension": ".py",
   "mimetype": "text/x-python",
   "name": "python",
   "nbconvert_exporter": "python",
   "pygments_lexer": "ipython3",
   "version": "3.7.1"
  }
 },
 "nbformat": 4,
 "nbformat_minor": 2
}
