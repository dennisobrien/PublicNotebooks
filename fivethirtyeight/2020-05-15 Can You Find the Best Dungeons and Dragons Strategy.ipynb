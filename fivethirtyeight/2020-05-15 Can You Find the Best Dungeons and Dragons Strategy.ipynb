{
 "cells": [
  {
   "cell_type": "markdown",
   "metadata": {},
   "source": [
    "# Can You Find the Best Dungeons & Dragons Strategy?\n",
    "\n",
    "The Riddler - 2020-05-15\n",
    "\n",
    "> The fifth edition of Dungeons & Dragons introduced a system of “advantage and disadvantage.” When you roll a die “with advantage,” you roll the die twice and keep the higher result. Rolling “with disadvantage” is similar, except you keep the lower result instead. The rules further specify that when a player rolls with both advantage and disadvantage, they cancel out, and the player rolls a single die. Yawn!\n",
    ">\n",
    "> There are two other, more mathematically interesting ways that advantage and disadvantage could be combined. First, you could have “advantage of disadvantage,” meaning you roll twice with disadvantage and then keep the higher result. Or, you could have “disadvantage of advantage,” meaning you roll twice with advantage and then keep the lower result. With a fair 20-sided die, which situation produces the highest expected roll: advantage of disadvantage, disadvantage of advantage or rolling a single die?\n",
    ">\n",
    "> Extra Credit: Instead of maximizing your expected roll, suppose you need to roll N or better with your 20-sided die. For each value of N, is it better to use advantage of disadvantage, disadvantage of advantage or rolling a single die?\n",
    "\n",
    "## Intuition\n",
    "\n",
    "My intuition says that \"disadvantage of advantage\" is a better strategy.  One way to think about it is that \"advantage\" will clearly have a better expected value than than \"disadvantage\", so picking the worse of \"advantage\" rolls will still be selecting from a population with higher expected values.\n",
    "\n",
    "Another way to think about this is what rolls get eliminated.  In the \"disadvantage of advantage\", we first eliminate two low rolls, one from each pair, then eliminate the highest from the two remaining \"advantage\" rolls.  So we will never select the highest value of the four rolls, nor the lowest of the four rolls (this is true for both \"disadvantage of advantage\" and \"advantage of disadvantage\"), but we will only be selecting the lower of the two remaining if the two pairs of rolls do not overlap in values."
   ]
  },
  {
   "cell_type": "code",
   "execution_count": 1,
   "metadata": {},
   "outputs": [],
   "source": [
    "import matplotlib.pyplot as plt\n",
    "import numpy as np\n",
    "import pandas as pd"
   ]
  },
  {
   "cell_type": "markdown",
   "metadata": {},
   "source": [
    "## Expected value of \"advantage\" and \"disadvantage\"\n",
    "\n",
    "There is probably a way to figure out the expected value in closed form, but running simulation is just so much easier.\n",
    "\n",
    "We will use `np.random.randint` to sample rolls from an N-sided dice."
   ]
  },
  {
   "cell_type": "code",
   "execution_count": 5,
   "metadata": {},
   "outputs": [
    {
     "data": {
      "text/plain": [
       "array([19])"
      ]
     },
     "execution_count": 5,
     "metadata": {},
     "output_type": "execute_result"
    }
   ],
   "source": [
    "np.random.randint(low=1, high=20+1, size=1)"
   ]
  },
  {
   "cell_type": "markdown",
   "metadata": {},
   "source": [
    "And if we want to simulate two rolls of the die, repeated 4 times, we pass a shape of (5, 2)."
   ]
  },
  {
   "cell_type": "code",
   "execution_count": 9,
   "metadata": {},
   "outputs": [
    {
     "data": {
      "text/plain": [
       "array([[18, 13],\n",
       "       [20, 20],\n",
       "       [18, 16],\n",
       "       [10,  4],\n",
       "       [ 1, 20]])"
      ]
     },
     "execution_count": 9,
     "metadata": {},
     "output_type": "execute_result"
    }
   ],
   "source": [
    "rolls = np.random.randint(low=1, high=20+1, size=(5, 2))\n",
    "rolls"
   ]
  },
  {
   "cell_type": "markdown",
   "metadata": {},
   "source": [
    "For \"advantage\", we take the max of the two rolls.  Running this along `axis=1` (running max along the columns) should give us what we want."
   ]
  },
  {
   "cell_type": "code",
   "execution_count": 12,
   "metadata": {},
   "outputs": [
    {
     "data": {
      "text/plain": [
       "array([18, 20, 18, 10, 20])"
      ]
     },
     "execution_count": 12,
     "metadata": {},
     "output_type": "execute_result"
    }
   ],
   "source": [
    "rolls.max(axis=1)"
   ]
  },
  {
   "cell_type": "markdown",
   "metadata": {},
   "source": [
    "And finally we can take the mean.  With a large enough sample size, this will approximate the expected value.\n",
    "\n",
    "Now let's wrap this up in methods."
   ]
  },
  {
   "cell_type": "code",
   "execution_count": 30,
   "metadata": {},
   "outputs": [
    {
     "data": {
      "text/plain": [
       "13.822086"
      ]
     },
     "execution_count": 30,
     "metadata": {},
     "output_type": "execute_result"
    }
   ],
   "source": [
    "def expected_value_advantage(n_rolls: int=100, n_sides: int=20) -> float:\n",
    "    rolls = np.random.randint(low=1, high=n_sides+1, size=(n_rolls, 2))\n",
    "    return rolls.max(axis=1).mean()\n",
    "\n",
    "expected_value_advantage(n_rolls=10**6, n_sides=20)"
   ]
  },
  {
   "cell_type": "markdown",
   "metadata": {},
   "source": [
    "We can do something similar for \"disadvantage\"."
   ]
  },
  {
   "cell_type": "code",
   "execution_count": 32,
   "metadata": {},
   "outputs": [
    {
     "data": {
      "text/plain": [
       "7.181395"
      ]
     },
     "execution_count": 32,
     "metadata": {},
     "output_type": "execute_result"
    }
   ],
   "source": [
    "def expected_value_disadvantage(n_rolls: int=100, n_sides: int=20) -> float:\n",
    "    rolls = np.random.randint(low=1, high=n_sides+1, size=(n_rolls, 2))\n",
    "    return rolls.min(axis=1).mean()\n",
    "\n",
    "expected_value_disadvantage(n_rolls=10**6, n_sides=20)"
   ]
  },
  {
   "cell_type": "markdown",
   "metadata": {},
   "source": [
    "And as a comparison, we should make sure we understand the expected value of a straight up roll."
   ]
  },
  {
   "cell_type": "code",
   "execution_count": 33,
   "metadata": {},
   "outputs": [
    {
     "data": {
      "text/plain": [
       "10.494313"
      ]
     },
     "execution_count": 33,
     "metadata": {},
     "output_type": "execute_result"
    }
   ],
   "source": [
    "def expected_value_roll(n_rolls: int=100, n_sides: int=20) -> float:\n",
    "    rolls = np.random.randint(low=1, high=n_sides+1, size=n_rolls)\n",
    "    return rolls.mean()\n",
    "\n",
    "expected_value_roll(n_rolls=10**6, n_sides=20)"
   ]
  },
  {
   "cell_type": "markdown",
   "metadata": {},
   "source": [
    "## Expected value of \"advantage of disadvantage\"\n",
    "\n",
    "We can take advantage of numpy's n-dimensional arrays by adding another dimension.  Whereas previously, `rolls[0]` represented the first roll of \"advantage\" or \"disadvantage\" (meaning, it was two rolls, then `min` or `max` applied), now `rolls[0]` will represent the first set of \"disadvantage\" rolls."
   ]
  },
  {
   "cell_type": "code",
   "execution_count": 25,
   "metadata": {},
   "outputs": [
    {
     "data": {
      "text/plain": [
       "array([[[15, 11],\n",
       "        [11, 19]],\n",
       "\n",
       "       [[14, 10],\n",
       "        [15, 13]],\n",
       "\n",
       "       [[12, 16],\n",
       "        [15, 10]],\n",
       "\n",
       "       [[ 5,  9],\n",
       "        [ 5,  8]],\n",
       "\n",
       "       [[15, 10],\n",
       "        [17,  2]]])"
      ]
     },
     "execution_count": 25,
     "metadata": {},
     "output_type": "execute_result"
    }
   ],
   "source": [
    "rolls = np.random.randint(low=1, high=20+1, size=(5, 2, 2))\n",
    "rolls"
   ]
  },
  {
   "cell_type": "code",
   "execution_count": 26,
   "metadata": {},
   "outputs": [
    {
     "data": {
      "text/plain": [
       "array([[15, 11],\n",
       "       [11, 19]])"
      ]
     },
     "execution_count": 26,
     "metadata": {},
     "output_type": "execute_result"
    }
   ],
   "source": [
    "rolls[0]"
   ]
  },
  {
   "cell_type": "code",
   "execution_count": 27,
   "metadata": {},
   "outputs": [
    {
     "data": {
      "text/plain": [
       "array([15, 11])"
      ]
     },
     "execution_count": 27,
     "metadata": {},
     "output_type": "execute_result"
    }
   ],
   "source": [
    "rolls[0, 0]"
   ]
  },
  {
   "cell_type": "markdown",
   "metadata": {},
   "source": [
    "So again, we want to apply `min` (for \"disadvantage\") across the last dimension."
   ]
  },
  {
   "cell_type": "code",
   "execution_count": 28,
   "metadata": {},
   "outputs": [
    {
     "data": {
      "text/plain": [
       "array([[11, 11],\n",
       "       [10, 13],\n",
       "       [12, 10],\n",
       "       [ 5,  5],\n",
       "       [10,  2]])"
      ]
     },
     "execution_count": 28,
     "metadata": {},
     "output_type": "execute_result"
    }
   ],
   "source": [
    "rolls.min(axis=2)"
   ]
  },
  {
   "cell_type": "markdown",
   "metadata": {},
   "source": [
    "And for \"advantage\" of these pairs of (\"disadvantage\") rolls, we apply `max` across the last dimension."
   ]
  },
  {
   "cell_type": "code",
   "execution_count": 29,
   "metadata": {},
   "outputs": [
    {
     "data": {
      "text/plain": [
       "array([11, 13, 12,  5, 10])"
      ]
     },
     "execution_count": 29,
     "metadata": {},
     "output_type": "execute_result"
    }
   ],
   "source": [
    "rolls.min(axis=2).max(axis=1)"
   ]
  },
  {
   "cell_type": "markdown",
   "metadata": {},
   "source": [
    "Now we can roll it up in a method and run the simulation."
   ]
  },
  {
   "cell_type": "code",
   "execution_count": 35,
   "metadata": {},
   "outputs": [
    {
     "data": {
      "text/plain": [
       "9.832093"
      ]
     },
     "execution_count": 35,
     "metadata": {},
     "output_type": "execute_result"
    }
   ],
   "source": [
    "def expected_value_advantage_of_disadvantage(n_rolls: int=100, n_sides: int=20) -> float:\n",
    "    rolls = np.random.randint(low=1, high=n_sides+1, size=(n_rolls, 2, 2))\n",
    "    return rolls.min(axis=2).max(axis=1).mean()\n",
    "\n",
    "expected_value_advantage_of_disadvantage(n_rolls=10**6, n_sides=20)"
   ]
  },
  {
   "cell_type": "code",
   "execution_count": 36,
   "metadata": {},
   "outputs": [
    {
     "data": {
      "text/plain": [
       "11.168241"
      ]
     },
     "execution_count": 36,
     "metadata": {},
     "output_type": "execute_result"
    }
   ],
   "source": [
    "def expected_value_disadvantage_of_advantage(n_rolls: int=100, n_sides: int=20) -> float:\n",
    "    rolls = np.random.randint(low=1, high=n_sides+1, size=(n_rolls, 2, 2))\n",
    "    return rolls.max(axis=2).min(axis=1).mean()\n",
    "\n",
    "expected_value_disadvantage_of_advantage(n_rolls=10**6, n_sides=20)"
   ]
  },
  {
   "cell_type": "markdown",
   "metadata": {},
   "source": [
    "So we see that our intuition was correct and that \"disadvantage of advantage\" is a better strategy than \"advantage of disadvantage\"."
   ]
  },
  {
   "cell_type": "markdown",
   "metadata": {},
   "source": [
    "## Extra credit\n",
    "\n",
    "Here we are not just interested in maximizing the expected value, but we want the strategy that is best to roll `N` or better on the 20-sided die.\n",
    "\n",
    "I'm surprised by this question because it suggests that the strategy for maximizing the expected value is not necessarily the best strategy to roll `N` or better for any given `N`.\n",
    "\n",
    "To get an understanding of this, we can return distributions instead of mean values."
   ]
  },
  {
   "cell_type": "code",
   "execution_count": 52,
   "metadata": {},
   "outputs": [
    {
     "data": {
      "text/html": [
       "<div>\n",
       "<style scoped>\n",
       "    .dataframe tbody tr th:only-of-type {\n",
       "        vertical-align: middle;\n",
       "    }\n",
       "\n",
       "    .dataframe tbody tr th {\n",
       "        vertical-align: top;\n",
       "    }\n",
       "\n",
       "    .dataframe thead th {\n",
       "        text-align: right;\n",
       "    }\n",
       "</style>\n",
       "<table border=\"1\" class=\"dataframe\">\n",
       "  <thead>\n",
       "    <tr style=\"text-align: right;\">\n",
       "      <th></th>\n",
       "      <th>roll</th>\n",
       "      <th>roll_or_higher</th>\n",
       "    </tr>\n",
       "  </thead>\n",
       "  <tbody>\n",
       "    <tr>\n",
       "      <th>1</th>\n",
       "      <td>0.050210</td>\n",
       "      <td>1.000000</td>\n",
       "    </tr>\n",
       "    <tr>\n",
       "      <th>2</th>\n",
       "      <td>0.050457</td>\n",
       "      <td>0.949790</td>\n",
       "    </tr>\n",
       "    <tr>\n",
       "      <th>3</th>\n",
       "      <td>0.049855</td>\n",
       "      <td>0.899333</td>\n",
       "    </tr>\n",
       "    <tr>\n",
       "      <th>4</th>\n",
       "      <td>0.049801</td>\n",
       "      <td>0.849478</td>\n",
       "    </tr>\n",
       "    <tr>\n",
       "      <th>5</th>\n",
       "      <td>0.049940</td>\n",
       "      <td>0.799677</td>\n",
       "    </tr>\n",
       "    <tr>\n",
       "      <th>6</th>\n",
       "      <td>0.049785</td>\n",
       "      <td>0.749737</td>\n",
       "    </tr>\n",
       "    <tr>\n",
       "      <th>7</th>\n",
       "      <td>0.049708</td>\n",
       "      <td>0.699952</td>\n",
       "    </tr>\n",
       "    <tr>\n",
       "      <th>8</th>\n",
       "      <td>0.050126</td>\n",
       "      <td>0.650244</td>\n",
       "    </tr>\n",
       "    <tr>\n",
       "      <th>9</th>\n",
       "      <td>0.049963</td>\n",
       "      <td>0.600118</td>\n",
       "    </tr>\n",
       "    <tr>\n",
       "      <th>10</th>\n",
       "      <td>0.049946</td>\n",
       "      <td>0.550155</td>\n",
       "    </tr>\n",
       "    <tr>\n",
       "      <th>11</th>\n",
       "      <td>0.050044</td>\n",
       "      <td>0.500209</td>\n",
       "    </tr>\n",
       "    <tr>\n",
       "      <th>12</th>\n",
       "      <td>0.049984</td>\n",
       "      <td>0.450165</td>\n",
       "    </tr>\n",
       "    <tr>\n",
       "      <th>13</th>\n",
       "      <td>0.050147</td>\n",
       "      <td>0.400181</td>\n",
       "    </tr>\n",
       "    <tr>\n",
       "      <th>14</th>\n",
       "      <td>0.050230</td>\n",
       "      <td>0.350034</td>\n",
       "    </tr>\n",
       "    <tr>\n",
       "      <th>15</th>\n",
       "      <td>0.049915</td>\n",
       "      <td>0.299804</td>\n",
       "    </tr>\n",
       "    <tr>\n",
       "      <th>16</th>\n",
       "      <td>0.049836</td>\n",
       "      <td>0.249889</td>\n",
       "    </tr>\n",
       "    <tr>\n",
       "      <th>17</th>\n",
       "      <td>0.050015</td>\n",
       "      <td>0.200053</td>\n",
       "    </tr>\n",
       "    <tr>\n",
       "      <th>18</th>\n",
       "      <td>0.049944</td>\n",
       "      <td>0.150038</td>\n",
       "    </tr>\n",
       "    <tr>\n",
       "      <th>19</th>\n",
       "      <td>0.050146</td>\n",
       "      <td>0.100094</td>\n",
       "    </tr>\n",
       "    <tr>\n",
       "      <th>20</th>\n",
       "      <td>0.049948</td>\n",
       "      <td>0.049948</td>\n",
       "    </tr>\n",
       "  </tbody>\n",
       "</table>\n",
       "</div>"
      ],
      "text/plain": [
       "        roll  roll_or_higher\n",
       "1   0.050210        1.000000\n",
       "2   0.050457        0.949790\n",
       "3   0.049855        0.899333\n",
       "4   0.049801        0.849478\n",
       "5   0.049940        0.799677\n",
       "6   0.049785        0.749737\n",
       "7   0.049708        0.699952\n",
       "8   0.050126        0.650244\n",
       "9   0.049963        0.600118\n",
       "10  0.049946        0.550155\n",
       "11  0.050044        0.500209\n",
       "12  0.049984        0.450165\n",
       "13  0.050147        0.400181\n",
       "14  0.050230        0.350034\n",
       "15  0.049915        0.299804\n",
       "16  0.049836        0.249889\n",
       "17  0.050015        0.200053\n",
       "18  0.049944        0.150038\n",
       "19  0.050146        0.100094\n",
       "20  0.049948        0.049948"
      ]
     },
     "execution_count": 52,
     "metadata": {},
     "output_type": "execute_result"
    }
   ],
   "source": [
    "def dist_roll(n_rolls: int=100, n_sides: int=20) -> pd.DataFrame:\n",
    "    rolls = np.random.randint(low=1, high=n_sides+1, size=n_rolls)\n",
    "    hist, bins = np.histogram(rolls, bins=n_sides, range=(1, n_sides+1), density=True)\n",
    "    df = pd.DataFrame(data={'roll': hist}, index=(int(x) for x in bins[:-1]))\n",
    "    df['roll_or_higher'] = df['roll'][::-1].cumsum()\n",
    "    return df\n",
    "\n",
    "dist_roll(n_rolls=10**6, n_sides=20)"
   ]
  },
  {
   "cell_type": "code",
   "execution_count": 53,
   "metadata": {},
   "outputs": [
    {
     "data": {
      "text/html": [
       "<div>\n",
       "<style scoped>\n",
       "    .dataframe tbody tr th:only-of-type {\n",
       "        vertical-align: middle;\n",
       "    }\n",
       "\n",
       "    .dataframe tbody tr th {\n",
       "        vertical-align: top;\n",
       "    }\n",
       "\n",
       "    .dataframe thead th {\n",
       "        text-align: right;\n",
       "    }\n",
       "</style>\n",
       "<table border=\"1\" class=\"dataframe\">\n",
       "  <thead>\n",
       "    <tr style=\"text-align: right;\">\n",
       "      <th></th>\n",
       "      <th>aod</th>\n",
       "      <th>aod_or_higher</th>\n",
       "    </tr>\n",
       "  </thead>\n",
       "  <tbody>\n",
       "    <tr>\n",
       "      <th>1</th>\n",
       "      <td>0.009487</td>\n",
       "      <td>1.000000</td>\n",
       "    </tr>\n",
       "    <tr>\n",
       "      <th>2</th>\n",
       "      <td>0.026532</td>\n",
       "      <td>0.990513</td>\n",
       "    </tr>\n",
       "    <tr>\n",
       "      <th>3</th>\n",
       "      <td>0.040762</td>\n",
       "      <td>0.963981</td>\n",
       "    </tr>\n",
       "    <tr>\n",
       "      <th>4</th>\n",
       "      <td>0.052649</td>\n",
       "      <td>0.923219</td>\n",
       "    </tr>\n",
       "    <tr>\n",
       "      <th>5</th>\n",
       "      <td>0.061778</td>\n",
       "      <td>0.870570</td>\n",
       "    </tr>\n",
       "    <tr>\n",
       "      <th>6</th>\n",
       "      <td>0.068637</td>\n",
       "      <td>0.808792</td>\n",
       "    </tr>\n",
       "    <tr>\n",
       "      <th>7</th>\n",
       "      <td>0.073380</td>\n",
       "      <td>0.740155</td>\n",
       "    </tr>\n",
       "    <tr>\n",
       "      <th>8</th>\n",
       "      <td>0.076093</td>\n",
       "      <td>0.666775</td>\n",
       "    </tr>\n",
       "    <tr>\n",
       "      <th>9</th>\n",
       "      <td>0.076544</td>\n",
       "      <td>0.590682</td>\n",
       "    </tr>\n",
       "    <tr>\n",
       "      <th>10</th>\n",
       "      <td>0.076295</td>\n",
       "      <td>0.514138</td>\n",
       "    </tr>\n",
       "    <tr>\n",
       "      <th>11</th>\n",
       "      <td>0.073531</td>\n",
       "      <td>0.437843</td>\n",
       "    </tr>\n",
       "    <tr>\n",
       "      <th>12</th>\n",
       "      <td>0.069795</td>\n",
       "      <td>0.364312</td>\n",
       "    </tr>\n",
       "    <tr>\n",
       "      <th>13</th>\n",
       "      <td>0.064552</td>\n",
       "      <td>0.294517</td>\n",
       "    </tr>\n",
       "    <tr>\n",
       "      <th>14</th>\n",
       "      <td>0.058079</td>\n",
       "      <td>0.229965</td>\n",
       "    </tr>\n",
       "    <tr>\n",
       "      <th>15</th>\n",
       "      <td>0.050788</td>\n",
       "      <td>0.171886</td>\n",
       "    </tr>\n",
       "    <tr>\n",
       "      <th>16</th>\n",
       "      <td>0.042946</td>\n",
       "      <td>0.121098</td>\n",
       "    </tr>\n",
       "    <tr>\n",
       "      <th>17</th>\n",
       "      <td>0.033787</td>\n",
       "      <td>0.078152</td>\n",
       "    </tr>\n",
       "    <tr>\n",
       "      <th>18</th>\n",
       "      <td>0.024595</td>\n",
       "      <td>0.044365</td>\n",
       "    </tr>\n",
       "    <tr>\n",
       "      <th>19</th>\n",
       "      <td>0.014780</td>\n",
       "      <td>0.019770</td>\n",
       "    </tr>\n",
       "    <tr>\n",
       "      <th>20</th>\n",
       "      <td>0.004990</td>\n",
       "      <td>0.004990</td>\n",
       "    </tr>\n",
       "  </tbody>\n",
       "</table>\n",
       "</div>"
      ],
      "text/plain": [
       "         aod  aod_or_higher\n",
       "1   0.009487       1.000000\n",
       "2   0.026532       0.990513\n",
       "3   0.040762       0.963981\n",
       "4   0.052649       0.923219\n",
       "5   0.061778       0.870570\n",
       "6   0.068637       0.808792\n",
       "7   0.073380       0.740155\n",
       "8   0.076093       0.666775\n",
       "9   0.076544       0.590682\n",
       "10  0.076295       0.514138\n",
       "11  0.073531       0.437843\n",
       "12  0.069795       0.364312\n",
       "13  0.064552       0.294517\n",
       "14  0.058079       0.229965\n",
       "15  0.050788       0.171886\n",
       "16  0.042946       0.121098\n",
       "17  0.033787       0.078152\n",
       "18  0.024595       0.044365\n",
       "19  0.014780       0.019770\n",
       "20  0.004990       0.004990"
      ]
     },
     "execution_count": 53,
     "metadata": {},
     "output_type": "execute_result"
    }
   ],
   "source": [
    "def dist_advantage_of_disadvantage(n_rolls: int=100, n_sides: int=20) -> pd.DataFrame:\n",
    "    rolls = np.random.randint(low=1, high=n_sides+1, size=(n_rolls, 2, 2))\n",
    "    values = rolls.min(axis=2).max(axis=1)\n",
    "    hist, bins = np.histogram(values, bins=n_sides, range=(1, n_sides+1), density=True)\n",
    "    df = pd.DataFrame(data={'aod': hist}, index=(int(x) for x in bins[:-1]))\n",
    "    df['aod_or_higher'] = df['aod'][::-1].cumsum()\n",
    "    return df\n",
    "\n",
    "dist_advantage_of_disadvantage(n_rolls=10**6, n_sides=20)"
   ]
  },
  {
   "cell_type": "code",
   "execution_count": 54,
   "metadata": {},
   "outputs": [
    {
     "data": {
      "text/html": [
       "<div>\n",
       "<style scoped>\n",
       "    .dataframe tbody tr th:only-of-type {\n",
       "        vertical-align: middle;\n",
       "    }\n",
       "\n",
       "    .dataframe tbody tr th {\n",
       "        vertical-align: top;\n",
       "    }\n",
       "\n",
       "    .dataframe thead th {\n",
       "        text-align: right;\n",
       "    }\n",
       "</style>\n",
       "<table border=\"1\" class=\"dataframe\">\n",
       "  <thead>\n",
       "    <tr style=\"text-align: right;\">\n",
       "      <th></th>\n",
       "      <th>doa</th>\n",
       "      <th>doa_or_higher</th>\n",
       "    </tr>\n",
       "  </thead>\n",
       "  <tbody>\n",
       "    <tr>\n",
       "      <th>1</th>\n",
       "      <td>0.005205</td>\n",
       "      <td>1.000000</td>\n",
       "    </tr>\n",
       "    <tr>\n",
       "      <th>2</th>\n",
       "      <td>0.014967</td>\n",
       "      <td>0.994795</td>\n",
       "    </tr>\n",
       "    <tr>\n",
       "      <th>3</th>\n",
       "      <td>0.024756</td>\n",
       "      <td>0.979828</td>\n",
       "    </tr>\n",
       "    <tr>\n",
       "      <th>4</th>\n",
       "      <td>0.033845</td>\n",
       "      <td>0.955072</td>\n",
       "    </tr>\n",
       "    <tr>\n",
       "      <th>5</th>\n",
       "      <td>0.042976</td>\n",
       "      <td>0.921227</td>\n",
       "    </tr>\n",
       "    <tr>\n",
       "      <th>6</th>\n",
       "      <td>0.051111</td>\n",
       "      <td>0.878251</td>\n",
       "    </tr>\n",
       "    <tr>\n",
       "      <th>7</th>\n",
       "      <td>0.057859</td>\n",
       "      <td>0.827140</td>\n",
       "    </tr>\n",
       "    <tr>\n",
       "      <th>8</th>\n",
       "      <td>0.064273</td>\n",
       "      <td>0.769281</td>\n",
       "    </tr>\n",
       "    <tr>\n",
       "      <th>9</th>\n",
       "      <td>0.069789</td>\n",
       "      <td>0.705008</td>\n",
       "    </tr>\n",
       "    <tr>\n",
       "      <th>10</th>\n",
       "      <td>0.073524</td>\n",
       "      <td>0.635219</td>\n",
       "    </tr>\n",
       "    <tr>\n",
       "      <th>11</th>\n",
       "      <td>0.075637</td>\n",
       "      <td>0.561695</td>\n",
       "    </tr>\n",
       "    <tr>\n",
       "      <th>12</th>\n",
       "      <td>0.076994</td>\n",
       "      <td>0.486058</td>\n",
       "    </tr>\n",
       "    <tr>\n",
       "      <th>13</th>\n",
       "      <td>0.076155</td>\n",
       "      <td>0.409064</td>\n",
       "    </tr>\n",
       "    <tr>\n",
       "      <th>14</th>\n",
       "      <td>0.073180</td>\n",
       "      <td>0.332909</td>\n",
       "    </tr>\n",
       "    <tr>\n",
       "      <th>15</th>\n",
       "      <td>0.068581</td>\n",
       "      <td>0.259729</td>\n",
       "    </tr>\n",
       "    <tr>\n",
       "      <th>16</th>\n",
       "      <td>0.061607</td>\n",
       "      <td>0.191148</td>\n",
       "    </tr>\n",
       "    <tr>\n",
       "      <th>17</th>\n",
       "      <td>0.052689</td>\n",
       "      <td>0.129541</td>\n",
       "    </tr>\n",
       "    <tr>\n",
       "      <th>18</th>\n",
       "      <td>0.040686</td>\n",
       "      <td>0.076852</td>\n",
       "    </tr>\n",
       "    <tr>\n",
       "      <th>19</th>\n",
       "      <td>0.026501</td>\n",
       "      <td>0.036166</td>\n",
       "    </tr>\n",
       "    <tr>\n",
       "      <th>20</th>\n",
       "      <td>0.009665</td>\n",
       "      <td>0.009665</td>\n",
       "    </tr>\n",
       "  </tbody>\n",
       "</table>\n",
       "</div>"
      ],
      "text/plain": [
       "         doa  doa_or_higher\n",
       "1   0.005205       1.000000\n",
       "2   0.014967       0.994795\n",
       "3   0.024756       0.979828\n",
       "4   0.033845       0.955072\n",
       "5   0.042976       0.921227\n",
       "6   0.051111       0.878251\n",
       "7   0.057859       0.827140\n",
       "8   0.064273       0.769281\n",
       "9   0.069789       0.705008\n",
       "10  0.073524       0.635219\n",
       "11  0.075637       0.561695\n",
       "12  0.076994       0.486058\n",
       "13  0.076155       0.409064\n",
       "14  0.073180       0.332909\n",
       "15  0.068581       0.259729\n",
       "16  0.061607       0.191148\n",
       "17  0.052689       0.129541\n",
       "18  0.040686       0.076852\n",
       "19  0.026501       0.036166\n",
       "20  0.009665       0.009665"
      ]
     },
     "execution_count": 54,
     "metadata": {},
     "output_type": "execute_result"
    }
   ],
   "source": [
    "def dist_disadvantage_of_advantage(n_rolls: int=100, n_sides: int=20) -> pd.DataFrame:\n",
    "    rolls = np.random.randint(low=1, high=n_sides+1, size=(n_rolls, 2, 2))\n",
    "    values = rolls.max(axis=2).min(axis=1)\n",
    "    hist, bins = np.histogram(values, bins=n_sides, range=(1, n_sides+1), density=True)\n",
    "    df = pd.DataFrame(data={'doa': hist}, index=(int(x) for x in bins[:-1]))\n",
    "    df['doa_or_higher'] = df['doa'][::-1].cumsum()\n",
    "    return df\n",
    "\n",
    "dist_disadvantage_of_advantage(n_rolls=10**6, n_sides=20)"
   ]
  },
  {
   "cell_type": "code",
   "execution_count": 64,
   "metadata": {},
   "outputs": [
    {
     "data": {
      "image/png": "[encoded data removed]",
      "text/plain": [
       "<Figure size 720x432 with 1 Axes>"
      ]
     },
     "metadata": {
      "needs_background": "light"
     },
     "output_type": "display_data"
    }
   ],
   "source": [
    "def plot_strategies(n_rolls=100, n_sides=20):\n",
    "    df_roll = dist_roll(n_rolls=n_rolls, n_sides=n_sides)\n",
    "    df_aod = dist_advantage_of_disadvantage(n_rolls=n_rolls, n_sides=n_sides)\n",
    "    df_doa = dist_disadvantage_of_advantage(n_rolls=n_rolls, n_sides=n_sides)\n",
    "    df = pd.concat([df_roll, df_aod, df_doa], axis=1)\n",
    "    ax = df.plot.line(y=['roll_or_higher', 'aod_or_higher', 'doa_or_higher'], figsize=(10,6))\n",
    "    ax.set_title('Comparative Strategies')\n",
    "    ax.set_ylim(top=1.0, bottom=0.0)\n",
    "    ax.set_xlim(left=1, right=n_sides)\n",
    "    ax.set_xticks(range(1, n_sides+1))\n",
    "    ax.grid(True, axis='x', alpha=0.5)\n",
    "\n",
    "plot_strategies(n_rolls=10**6, n_sides=20)"
   ]
  },
  {
   "cell_type": "markdown",
   "metadata": {},
   "source": [
    "This chart gives us a few insights:\n",
    "\n",
    "- \"Disadvantage of advantage\" strictly dominates \"advantage of disadvantage\".\n",
    "- \"Disadvantage of advantage\" beats the \"single roll\" strategy for values of `N` up to and including 13.  But for 14 and higher, it is better to choose the \"single roll\" strategy.\n",
    "- \"Advantage of disadvantage\" beats the \"single roll\" strategy for values on `N` up to and including 8.  But for 9 and higher, \"single roll\" is a better strategy."
   ]
  },
  {
   "cell_type": "code",
   "execution_count": null,
   "metadata": {},
   "outputs": [],
   "source": []
  }
 ],
 "metadata": {
  "kernelspec": {
   "display_name": "Python [conda env:py37]",
   "language": "python",
   "name": "conda-env-py37-py"
  },
  "language_info": {
   "codemirror_mode": {
    "name": "ipython",
    "version": 3
   },
   "file_extension": ".py",
   "mimetype": "text/x-python",
   "name": "python",
   "nbconvert_exporter": "python",
   "pygments_lexer": "ipython3",
   "version": "3.7.7"
  }
 },
 "nbformat": 4,
 "nbformat_minor": 4
}
