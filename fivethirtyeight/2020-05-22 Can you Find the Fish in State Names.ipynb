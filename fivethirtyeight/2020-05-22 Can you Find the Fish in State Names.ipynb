{
 "cells": [
  {
   "cell_type": "markdown",
   "metadata": {},
   "source": [
    "# Can You Find the Fish in State Names?\n",
    "\n",
    "[The Riddler - 2020-05-22](https://fivethirtyeight.com/features/somethings-fishy-in-the-state-of-the-riddler/)\n",
    "\n",
    "> Ohio is the only state whose name doesn’t share any letters with the word “mackerel.” It’s strange, but it’s true.\n",
    ">\n",
    "> But that isn’t the only pairing of a state and a word you can say that about — it’s not even the only fish! Kentucky has “goldfish” to itself, Montana has “jellyfish” and Delaware has “monkfish,” just to name a few.\n",
    ">\n",
    "> What is the longest “mackerel?” That is, what is the longest word that doesn’t share any letters with exactly one state? (If multiple “mackerels” are tied for being the longest, can you find them all?)\n",
    ">\n",
    "> Extra credit: Which state has the most “mackerels?” That is, which state has the most words for which it is the only state without any letters in common with those words?"
   ]
  },
  {
   "cell_type": "code",
   "execution_count": 65,
   "metadata": {},
   "outputs": [],
   "source": [
    "from collections import Counter\n",
    "from joblib import Parallel, delayed\n",
    "import json\n",
    "import pandas as pd\n",
    "import requests"
   ]
  },
  {
   "cell_type": "markdown",
   "metadata": {},
   "source": [
    "To get our word list, we will use a list provided by Peter Norvig.  And for the 50 states, I found a list on Github."
   ]
  },
  {
   "cell_type": "code",
   "execution_count": 5,
   "metadata": {},
   "outputs": [
    {
     "data": {
      "text/plain": [
       "263533"
      ]
     },
     "execution_count": 5,
     "metadata": {},
     "output_type": "execute_result"
    }
   ],
   "source": [
    "def get_word_list():\n",
    "    r = requests.get('https://norvig.com/ngrams/word.list')\n",
    "    word_list = [w.strip() for w in r.text.split()]\n",
    "    return word_list\n",
    "\n",
    "word_list = get_word_list()\n",
    "len(word_list)"
   ]
  },
  {
   "cell_type": "code",
   "execution_count": 11,
   "metadata": {},
   "outputs": [
    {
     "data": {
      "text/plain": [
       "['Alabama',\n",
       " 'Alaska',\n",
       " 'Arizona',\n",
       " 'Arkansas',\n",
       " 'California',\n",
       " 'Colorado',\n",
       " 'Connecticut',\n",
       " 'Delaware',\n",
       " 'District of Columbia',\n",
       " 'Florida']"
      ]
     },
     "execution_count": 11,
     "metadata": {},
     "output_type": "execute_result"
    }
   ],
   "source": [
    "def get_state_list():\n",
    "    r = requests.get('https://gist.githubusercontent.com/tvpmb/4734703/raw/b54d03154c339ed3047c66fefcece4727dfc931a/US%2520State%2520List')\n",
    "    state_dct_list = json.loads(r.text)\n",
    "    return [s.get('name') for s in state_dct_list]\n",
    "\n",
    "state_list = get_state_list()\n",
    "state_list[:10]"
   ]
  },
  {
   "cell_type": "markdown",
   "metadata": {},
   "source": [
    "First let's start off simple by creating a method that will take a state name and a word and return a set of the overlapping letters."
   ]
  },
  {
   "cell_type": "code",
   "execution_count": 18,
   "metadata": {},
   "outputs": [
    {
     "data": {
      "text/plain": [
       "{'m'}"
      ]
     },
     "execution_count": 18,
     "metadata": {},
     "output_type": "execute_result"
    }
   ],
   "source": [
    "def get_shared_letters(a, b):\n",
    "    return set(a.lower()).intersection(set(b.lower()))\n",
    "\n",
    "get_shared_letters('mackerel', 'Mississippi')"
   ]
  },
  {
   "cell_type": "markdown",
   "metadata": {},
   "source": [
    "Now we will make a method that takes a word and the list of states and returns a dictionary mapping the state name to the overlapping set."
   ]
  },
  {
   "cell_type": "code",
   "execution_count": 21,
   "metadata": {},
   "outputs": [
    {
     "data": {
      "text/plain": [
       "{'Alabama': {'a', 'l', 'm'},\n",
       " 'Alaska': {'a', 'k', 'l'},\n",
       " 'Arizona': {'a', 'r'},\n",
       " 'Arkansas': {'a', 'k', 'r'},\n",
       " 'California': {'a', 'c', 'l', 'r'},\n",
       " 'Colorado': {'a', 'c', 'l', 'r'},\n",
       " 'Connecticut': {'c', 'e'},\n",
       " 'Delaware': {'a', 'e', 'l', 'r'},\n",
       " 'District of Columbia': {'a', 'c', 'l', 'm', 'r'},\n",
       " 'Florida': {'a', 'l', 'r'},\n",
       " 'Georgia': {'a', 'e', 'r'},\n",
       " 'Hawaii': {'a'},\n",
       " 'Idaho': {'a'},\n",
       " 'Illinois': {'l'},\n",
       " 'Indiana': {'a'},\n",
       " 'Iowa': {'a'},\n",
       " 'Kansa': {'a', 'k'},\n",
       " 'Kentucky': {'c', 'e', 'k'},\n",
       " 'Lousiana': {'a', 'l'},\n",
       " 'Maine': {'a', 'e', 'm'},\n",
       " 'Maryland': {'a', 'l', 'm', 'r'},\n",
       " 'Massachusetts': {'a', 'c', 'e', 'm'},\n",
       " 'Michigan': {'a', 'c', 'm'},\n",
       " 'Minnesota': {'a', 'e', 'm'},\n",
       " 'Mississippi': {'m'},\n",
       " 'Missouri': {'m', 'r'},\n",
       " 'Montana': {'a', 'm'},\n",
       " 'Nebraska': {'a', 'e', 'k', 'r'},\n",
       " 'Nevada': {'a', 'e'},\n",
       " 'New Hampshire': {'a', 'e', 'm', 'r'},\n",
       " 'New Jersey': {'e', 'r'},\n",
       " 'New Mexico': {'c', 'e', 'm'},\n",
       " 'New York': {'e', 'k', 'r'},\n",
       " 'North Carolina': {'a', 'c', 'l', 'r'},\n",
       " 'North Dakota': {'a', 'k', 'r'},\n",
       " 'Ohio': set(),\n",
       " 'Oklahoma': {'a', 'k', 'l', 'm'},\n",
       " 'Oregon': {'e', 'r'},\n",
       " 'Pennsylvania': {'a', 'e', 'l'},\n",
       " 'Rhode Island': {'a', 'e', 'l', 'r'},\n",
       " 'South Carolina': {'a', 'c', 'l', 'r'},\n",
       " 'South Dakota': {'a', 'k'},\n",
       " 'Tennessee': {'e'},\n",
       " 'Texas': {'a', 'e'},\n",
       " 'Utah': {'a'},\n",
       " 'Vermont': {'e', 'm', 'r'},\n",
       " 'Virginia': {'a', 'r'},\n",
       " 'Washington': {'a'},\n",
       " 'West Virginia': {'a', 'e', 'r'},\n",
       " 'Wisconsin': {'c'},\n",
       " 'Wyoming': {'m'}}"
      ]
     },
     "execution_count": 21,
     "metadata": {},
     "output_type": "execute_result"
    }
   ],
   "source": [
    "def get_state_to_shared_letters(word, state_list):\n",
    "    return {state_name: get_shared_letters(word, state_name) for state_name in state_list}\n",
    "\n",
    "get_state_to_shared_letters('mackerel', state_list)"
   ]
  },
  {
   "cell_type": "markdown",
   "metadata": {},
   "source": [
    "Now we can make a method that filters for the state names with empty sets only."
   ]
  },
  {
   "cell_type": "code",
   "execution_count": 22,
   "metadata": {},
   "outputs": [
    {
     "data": {
      "text/plain": [
       "{'Ohio': set()}"
      ]
     },
     "execution_count": 22,
     "metadata": {},
     "output_type": "execute_result"
    }
   ],
   "source": [
    "def filter_empty_sets(state_to_shared_letters_dct):\n",
    "    return {state_name: shared_set for state_name, shared_set in state_to_shared_letters_dct.items() if len(shared_set) == 0}\n",
    "\n",
    "\n",
    "filter_empty_sets(get_state_to_shared_letters('mackerel', state_list))"
   ]
  },
  {
   "cell_type": "markdown",
   "metadata": {},
   "source": [
    "Finally, we can iterate through all the words in the dictionary and find the words that have only a single state with no shared letters."
   ]
  },
  {
   "cell_type": "code",
   "execution_count": 56,
   "metadata": {},
   "outputs": [
    {
     "data": {
      "text/plain": [
       "45385"
      ]
     },
     "execution_count": 56,
     "metadata": {},
     "output_type": "execute_result"
    }
   ],
   "source": [
    "def get_words_with_one_state_no_shared_letters(word_list, state_list):\n",
    "    use_joblib_parallel = True\n",
    "    if use_joblib_parallel:\n",
    "        def _get_filtered_empty_sets(word):\n",
    "            print(word)\n",
    "            empty_set_dict = filter_empty_sets(get_state_to_shared_letters(word, state_list))\n",
    "            if len(empty_set_dict) == 1:\n",
    "                return (word, list(empty_set_dict.keys())[0])\n",
    "        dct = Parallel(n_jobs=2)(delayed(_get_filtered_empty_sets)(word) for word in word_list)\n",
    "        dct = {item[0]: item[1] for item in dct if item is not None}\n",
    "    else:\n",
    "        dct = {}\n",
    "        for word in word_list:\n",
    "            empty_set_dict = filter_empty_sets(get_state_to_shared_letters(word, state_list))\n",
    "            if len(empty_set_dict) == 1:\n",
    "                dct[word] = list(empty_set_dict.keys())[0]\n",
    "    return dct\n",
    "\n",
    "\n",
    "words_with_one_state_no_shared_letters = get_words_with_one_state_no_shared_letters(word_list, state_list)\n",
    "len(words_with_one_state_no_shared_letters)"
   ]
  },
  {
   "cell_type": "markdown",
   "metadata": {},
   "source": [
    "Find the longest words."
   ]
  },
  {
   "cell_type": "code",
   "execution_count": 63,
   "metadata": {},
   "outputs": [
    {
     "name": "stdout",
     "output_type": "stream",
     "text": [
      "counterproductivenesses Alabama\n",
      "hydrochlorofluorocarbon Mississippi\n",
      "counterproductiveness Alabama\n",
      "unconscientiousnesses Alabama\n",
      "counterconditionings Alabama\n",
      "deoxycorticosterones Alabama\n",
      "expressionlessnesses Utah\n",
      "hyperconsciousnesses Alabama\n",
      "hypersensitivenesses Alabama\n",
      "incompressiblenesses Utah\n",
      "interconnectednesses Alabama\n",
      "microelectrophoretic Kansa\n",
      "nondestructivenesses Alabama\n",
      "overprotectivenesses Alabama\n",
      "overscrupulousnesses Hawaii\n",
      "supposititiousnesses Alabama\n",
      "transcendentalnesses Ohio\n",
      "underconsciousnesses Alabama\n",
      "untranslatablenesses Ohio\n",
      "conscientiousnesses Alabama\n",
      "counterinstitutions Alabama\n",
      "counterinsurgencies Alabama\n",
      "deoxycorticosterone Alabama\n",
      "discontinuousnesses Alabama\n",
      "heterogeneousnesses Alabama\n",
      "inconsecutivenesses Alabama\n",
      "inconspicuousnesses Alabama\n",
      "indiscerniblenesses Utah\n",
      "inexpressiblenesses Utah\n",
      "intersubjectivities Oklahoma\n",
      "introspectivenesses Alabama\n",
      "irrepressiblenesses Utah\n",
      "irresponsiblenesses Utah\n",
      "noninterventionists Alabama\n",
      "nonproductivenesses Alabama\n",
      "oversensitivenesses Alabama\n",
      "photoconductivities Alabama\n",
      "preternaturalnesses Ohio\n",
      "psychophysiologists Nevada\n",
      "stereospecificities Alabama\n",
      "superconductivities Alabama\n",
      "superintendentships Alabama\n",
      "superstitiousnesses Alabama\n",
      "surreptitiousnesses Alabama\n",
      "tetrachloroethylene Mississippi\n",
      "thoroughgoingnesses Alabama\n",
      "unconditionednesses Alabama\n",
      "unconscientiousness Alabama\n",
      "unpersuadablenesses Ohio\n",
      "unpretentiousnesses Alabama\n",
      "unpreventablenesses Ohio\n",
      "unprogressivenesses Alabama\n",
      "untrustworthinesses Alabama\n",
      "biobibliographical Tennessee\n",
      "chlorofluorocarbon Mississippi\n",
      "coccidioidomycoses Utah\n",
      "coccidioidomycosis Utah\n",
      "compressiblenesses Utah\n",
      "constructivenesses Alabama\n",
      "contemptuousnesses Hawaii\n",
      "counterconventions Alabama\n",
      "counterdeployments Hawaii\n",
      "countergovernments Hawaii\n",
      "counterinstitution Alabama\n",
      "counterquestioning Alabama\n",
      "countersuggestions Alabama\n",
      "creditworthinesses Alabama\n",
      "deconstructionists Alabama\n",
      "disconnectednesses Alabama\n",
      "discontentednesses Alabama\n",
      "discourteousnesses Alabama\n",
      "disingenuousnesses Alabama\n",
      "distributivenesses Oklahoma\n",
      "expressionlessness Utah\n",
      "feeblemindednesses Utah\n",
      "hyperconsciousness Alabama\n",
      "hypercorrectnesses Alabama\n",
      "hypersensitiveness Alabama\n",
      "hypersensitivities Alabama\n",
      "incompressibleness Utah\n",
      "incontiguousnesses Alabama\n",
      "incorrigiblenesses Utah\n",
      "indefensiblenesses Utah\n",
      "interconnectedness Alabama\n",
      "introductorinesses Alabama\n",
      "introspectionistic Alabama\n",
      "irremissiblenesses Utah\n",
      "irreversiblenesses Utah\n",
      "micromorphological Tennessee\n",
      "nondestructiveness Alabama\n",
      "noninterventionist Alabama\n",
      "obstreperousnesses Hawaii\n",
      "overprotectiveness Alabama\n",
      "overscrupulousness Hawaii\n",
      "photoperiodicities Alabama\n",
      "photoreproductions Alabama\n",
      "photosensitivities Alabama\n",
      "preconsciousnesses Alabama\n",
      "presumptuousnesses Hawaii\n",
      "propertylessnesses Hawaii\n"
     ]
    }
   ],
   "source": [
    "for word in sorted(words_with_one_state_no_shared_letters.keys(), key=len, reverse=True)[:100]:\n",
    "    print(word, words_with_one_state_no_shared_letters[word])"
   ]
  },
  {
   "cell_type": "markdown",
   "metadata": {},
   "source": [
    "What states have the most words associated with them?"
   ]
  },
  {
   "cell_type": "code",
   "execution_count": 68,
   "metadata": {},
   "outputs": [
    {
     "data": {
      "text/plain": [
       "[('Ohio', 11342),\n",
       " ('Alabama', 8274),\n",
       " ('Utah', 6619),\n",
       " ('Mississippi', 4863),\n",
       " ('Hawaii', 1763),\n",
       " ('Kentucky', 1580),\n",
       " ('Wyoming', 1364),\n",
       " ('Tennessee', 1339),\n",
       " ('Alaska', 1261),\n",
       " ('Nevada', 1229),\n",
       " ('Kansa', 884),\n",
       " ('Oregon', 682),\n",
       " ('Montana', 648),\n",
       " ('Texas', 639),\n",
       " ('Indiana', 482),\n",
       " ('Colorado', 481),\n",
       " ('Delaware', 399),\n",
       " ('Oklahoma', 369),\n",
       " ('New Jersey', 337),\n",
       " ('Iowa', 201),\n",
       " ('Virginia', 107),\n",
       " ('New York', 105),\n",
       " ('Illinois', 79),\n",
       " ('Missouri', 73),\n",
       " ('Maryland', 67),\n",
       " ('Wisconsin', 60),\n",
       " ('North Dakota', 54),\n",
       " ('New Mexico', 30),\n",
       " ('Vermont', 27),\n",
       " ('Maine', 14),\n",
       " ('Connecticut', 9),\n",
       " ('Michigan', 4)]"
      ]
     },
     "execution_count": 68,
     "metadata": {},
     "output_type": "execute_result"
    }
   ],
   "source": [
    "Counter(words_with_one_state_no_shared_letters.values()).most_common()"
   ]
  },
  {
   "cell_type": "code",
   "execution_count": null,
   "metadata": {},
   "outputs": [],
   "source": []
  }
 ],
 "metadata": {
  "kernelspec": {
   "display_name": "Python [conda env:py37]",
   "language": "python",
   "name": "conda-env-py37-py"
  },
  "language_info": {
   "codemirror_mode": {
    "name": "ipython",
    "version": 3
   },
   "file_extension": ".py",
   "mimetype": "text/x-python",
   "name": "python",
   "nbconvert_exporter": "python",
   "pygments_lexer": "ipython3",
   "version": "3.7.7"
  }
 },
 "nbformat": 4,
 "nbformat_minor": 4
}
