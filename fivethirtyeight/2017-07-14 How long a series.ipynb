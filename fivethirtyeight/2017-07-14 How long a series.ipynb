{
 "cells": [
  {
   "cell_type": "markdown",
   "metadata": {},
   "source": [
    "# How long a series to maximize expected winnings\n",
    "\n",
    "## Riddler Classic 2017-07-14\n",
    "\n",
    "https://fivethirtyeight.com/features/can-you-eat-more-pizza-than-your-siblings/\n",
    "\n",
    "> Congratulations! The Acme Axegrinders, which you own, are the regular season champions of the National Squishyball League (NSL). Your team will now play a championship series against the Boondocks Barbarians, which had the second-best regular season record. You feel good about Acme’s chances in the series because Acme won exactly 60 percent of the hundreds of games it played against Boondocks this season. (The NSL has an incredibly long regular season.) The NSL has two special rules for the playoffs:\n",
    "> \n",
    "> 1. The owner of the top-seeded team (i.e., you) gets to select the length of the championship series in advance of the first game, so you could decide to play a single game, a best two out of three series, a three out of five series, etc., all the way up to a 50 out of 99 series.\n",
    "> 2. The owner of the winning team gets \\$1 million minus \\$10,000 for each of the victories required to win the series, regardless of how many games the series lasts in total. Thus, if the top-seeded team’s owner selects a single-game championship, the winning owner will collect \\$990,000. If he or she selects a 4 out of 7 series, the winning team’s owner will collect \\$960,000. The owner of the losing team gets nothing.\n",
    ">\n",
    "> Since Acme has a 60 percent chance of winning any individual game against Boondocks, Rule 1 encourages you to opt for a very long series to improve Acme’s chances of winning the series. But Rule 2 means that a long series will mean less winnings for you if Acme does take the series.\n",
    "> \n",
    "> How long a series should you select in order to maximize your expected winnings? And how much money do you expect to win?"
   ]
  },
  {
   "cell_type": "markdown",
   "metadata": {},
   "source": [
    "Let's first define some terms.\n",
    "\n",
    "- $S$: a series with some number of games required to win it.\n",
    "- $n$: the number of wins required for a series $S_n$.\n",
    "- $N$: the maximum number of games a series $S_n$ can go.  $N = 2n-1$\n",
    "- $m$: the number of total games a particular instance of a series went before a winner was determined.\n",
    "- $w$: the number of wins in a particular instance of series.\n",
    "- $P_n$: the probability of winning a series requiring $n$ wins.\n",
    "- $P_{n,m}$: the probability of winning a series requiring $n$ wins in a total of $m$ games.\n",
    "\n",
    "A series $S_n$ can be won in anywhere from $n$ to $2n-1$ games.  We can calculate the probability of winning the overall series by adding up the probabilities of each series run length.\n",
    "\n",
    "$P_n = \\sum\\limits_{m=n}^{2n-1}P_{n,m}$\n",
    "\n",
    "But we need to take care that we don't overcount.  That is, for a series $S_n$ that is won in $m$ games, we need to remove the combination of wins of $m-1$ games (because that series would have ended in $m-1$ games).\n",
    "\n",
    "So there are a number of steps to calculate the overall probability.\n",
    "1. Calculate the probability of winning a series requiring $n$ wins in $m$ games.\n",
    "    - This takes into consideration the combinations of wins and losses as well as the probabilities of wins and losses.\n",
    "    - Remove from this count those combinations that would have resulted in a shorter series.\n",
    "2. Calculate the probability of winning the series by adding up the probabilities for all the possible series lengths.\n"
   ]
  },
  {
   "cell_type": "code",
   "execution_count": 1,
   "metadata": {
    "collapsed": true
   },
   "outputs": [],
   "source": [
    "%matplotlib inline"
   ]
  },
  {
   "cell_type": "code",
   "execution_count": 9,
   "metadata": {},
   "outputs": [
    {
     "name": "stdout",
     "output_type": "stream",
     "text": [
      "1 wins out of 1 games, p=0.6\n",
      "all combinations:    1.0\n",
      "lesser combinations: 0.0\n",
      "n_combinations:      1.0\n",
      "probability:         0.6\n"
     ]
    },
    {
     "data": {
      "text/plain": [
       "0.59999999999999998"
      ]
     },
     "execution_count": 9,
     "metadata": {},
     "output_type": "execute_result"
    }
   ],
   "source": [
    "import matplotlib.pyplot as plt\n",
    "import numpy as np\n",
    "import pandas as pd\n",
    "import scipy.misc\n",
    "import seaborn as sns\n",
    "\n",
    "\n",
    "def series_win_probability_of_length(n, m, p=0.6, verbose=False):\n",
    "    \"\"\"Return the probability of `n` wins for a series of length `m` games with a base win probaility of `p`.\n",
    "    The wins and losses can occur in any order, but we are removing the occurrences of wins that result\n",
    "    in a shorter series.\n",
    "    The shortest the series can be is `n` games while the longest is `2n-1`.\n",
    "    \"\"\"\n",
    "    assert n <= m, 'the number of wins {n} must be less than or equal to the number of games in the series {m}'.format(n=n, m=m)\n",
    "    assert m <= 2*n - 1, 'the series length cannot be greater than 2n-1'\n",
    "    losses = m - n\n",
    "    all_combinations = scipy.misc.comb(m, n)\n",
    "    # lesser_combinations = sum([scipy.misc.comb(i, n) for i in range(n, m)])\n",
    "    lesser_combinations = scipy.misc.comb(m-1, n)\n",
    "    n_combinations = all_combinations - lesser_combinations\n",
    "    prob = p**n * (1-p)**losses * n_combinations\n",
    "    if verbose:\n",
    "        print('{} wins out of {} games, p={}'.format(n, m, p))\n",
    "        print('all combinations:    {}'.format(all_combinations))\n",
    "        print('lesser combinations: {}'.format(lesser_combinations))\n",
    "        print('n_combinations:      {}'.format(n_combinations))\n",
    "        print('probability:         {}'.format(prob))\n",
    "    return prob\n",
    "\n",
    "\n",
    "def series_win_probability(n, p=0.6, verbose=False):\n",
    "    \"\"\"Return the probability of winning a series requiring `n` wins with a base probability of `p`.\n",
    "    \"\"\"\n",
    "    return sum([series_win_probability_of_length(n, m, p=p, verbose=verbose) for m in range(n, 2*n)])\n",
    "\n",
    "\n",
    "series_win_probability_of_length(1, 1, p=0.6, verbose=True)"
   ]
  },
  {
   "cell_type": "code",
   "execution_count": 10,
   "metadata": {},
   "outputs": [
    {
     "name": "stdout",
     "output_type": "stream",
     "text": [
      "1 wins out of 1 games, p=0.4\n",
      "all combinations:    1.0\n",
      "lesser combinations: 0.0\n",
      "n_combinations:      1.0\n",
      "probability:         0.4\n"
     ]
    },
    {
     "data": {
      "text/plain": [
       "0.40000000000000002"
      ]
     },
     "execution_count": 10,
     "metadata": {},
     "output_type": "execute_result"
    }
   ],
   "source": [
    "series_win_probability_of_length(1, 1, p=0.4, verbose=True)"
   ]
  },
  {
   "cell_type": "markdown",
   "metadata": {
    "collapsed": true
   },
   "source": [
    "So this is a good sanity check.\n",
    "\n",
    "Let's check that the probabilities for the series going to $m$ games makes sense."
   ]
  },
  {
   "cell_type": "code",
   "execution_count": 11,
   "metadata": {},
   "outputs": [
    {
     "name": "stdout",
     "output_type": "stream",
     "text": [
      "2 wins out of 2 games, p=0.6\n",
      "all combinations:    1.0\n",
      "lesser combinations: 0.0\n",
      "n_combinations:      1.0\n",
      "probability:         0.36\n",
      "\tP of 2 wins in 2 games: 0.36\n",
      "2 wins out of 3 games, p=0.6\n",
      "all combinations:    3.0\n",
      "lesser combinations: 1.0\n",
      "n_combinations:      2.0\n",
      "probability:         0.288\n",
      "\tP of 2 wins in 3 games: 0.288\n"
     ]
    }
   ],
   "source": [
    "N = 2\n",
    "p = 0.6\n",
    "for m in range(N, 2*N):\n",
    "    print('\\tP of {} wins in {} games: {}'.format(N, m, series_win_probability_of_length(N, m, p=p, verbose=True)))"
   ]
  },
  {
   "cell_type": "code",
   "execution_count": 12,
   "metadata": {},
   "outputs": [
    {
     "name": "stdout",
     "output_type": "stream",
     "text": [
      "2 wins out of 2 games, p=0.4\n",
      "all combinations:    1.0\n",
      "lesser combinations: 0.0\n",
      "n_combinations:      1.0\n",
      "probability:         0.16000000000000003\n",
      "\tP of 2 wins in 2 games: 0.16000000000000003\n",
      "2 wins out of 3 games, p=0.4\n",
      "all combinations:    3.0\n",
      "lesser combinations: 1.0\n",
      "n_combinations:      2.0\n",
      "probability:         0.19200000000000003\n",
      "\tP of 2 wins in 3 games: 0.19200000000000003\n"
     ]
    }
   ],
   "source": [
    "N = 2\n",
    "p = 0.4\n",
    "for m in range(N, 2*N):\n",
    "    print('\\tP of {} wins in {} games: {}'.format(N, m, series_win_probability_of_length(N, m, p=p, verbose=True)))"
   ]
  },
  {
   "cell_type": "markdown",
   "metadata": {},
   "source": [
    "Let's also check that all the probabilities sum to 1."
   ]
  },
  {
   "cell_type": "code",
   "execution_count": 14,
   "metadata": {},
   "outputs": [
    {
     "name": "stdout",
     "output_type": "stream",
     "text": [
      "\t0.6479999999999999\n",
      "\t0.3520000000000001\n",
      "\n",
      "total probability: 1.0\n"
     ]
    }
   ],
   "source": [
    "N = 2\n",
    "p = 0.6\n",
    "\n",
    "print('\\t{}'.format(series_win_probability(N, p=p)))\n",
    "print('\\t{}'.format(series_win_probability(N, p=1-p)))\n",
    "print('\\ntotal probability: {}'.format(series_win_probability(N, p=p) + series_win_probability(N, p=1-p)))"
   ]
  },
  {
   "cell_type": "code",
   "execution_count": 15,
   "metadata": {},
   "outputs": [
    {
     "name": "stdout",
     "output_type": "stream",
     "text": [
      "\t0.68256\n",
      "\t0.31744000000000006\n",
      "\n",
      "total probability: 1.0\n"
     ]
    }
   ],
   "source": [
    "N = 3\n",
    "p = 0.6\n",
    "\n",
    "print('\\t{}'.format(series_win_probability(N, p=p)))\n",
    "print('\\t{}'.format(series_win_probability(N, p=1-p)))\n",
    "print('\\ntotal probability: {}'.format(series_win_probability(N, p=p) + series_win_probability(N, p=1-p)))"
   ]
  },
  {
   "cell_type": "code",
   "execution_count": 16,
   "metadata": {},
   "outputs": [
    {
     "name": "stdout",
     "output_type": "stream",
     "text": [
      "\t0.978069557869915\n",
      "\t0.021930442130085215\n",
      "\n",
      "total probability: 1.0000000000000002\n"
     ]
    }
   ],
   "source": [
    "N = 50\n",
    "p = 0.6\n",
    "print('\\t{}'.format(series_win_probability(N, p=p)))\n",
    "print('\\t{}'.format(series_win_probability(N, p=1-p)))\n",
    "print('\\ntotal probability: {}'.format(series_win_probability(N, p=p) + series_win_probability(N, p=1-p)))"
   ]
  },
  {
   "cell_type": "markdown",
   "metadata": {},
   "source": [
    "So now that we have the probability of the team winning the series given the number of required wins $n$, we can calculate the expected value $E$."
   ]
  },
  {
   "cell_type": "code",
   "execution_count": 17,
   "metadata": {},
   "outputs": [
    {
     "data": {
      "text/plain": [
       "594000.0"
      ]
     },
     "execution_count": 17,
     "metadata": {},
     "output_type": "execute_result"
    }
   ],
   "source": [
    "def expected_value(n, p=0.6, total_payout=10**6, win_cost=10**4, verbose=False):\n",
    "    \"\"\"Get the expected value for winning a series given the number of games required $n$\n",
    "    and the win probability $p$.\n",
    "    \"\"\"\n",
    "    p = series_win_probability(n, p=p, verbose=verbose)\n",
    "    payout = total_payout - n * win_cost\n",
    "    val = p * payout\n",
    "    return val\n",
    "\n",
    "expected_value(1)"
   ]
  },
  {
   "cell_type": "markdown",
   "metadata": {},
   "source": [
    "Calculate all the probabilities and payouts for series from 1 to 50 games.  We'll put it in a DataFrame for convenient plotting."
   ]
  },
  {
   "cell_type": "code",
   "execution_count": 18,
   "metadata": {},
   "outputs": [
    {
     "data": {
      "text/html": [
       "<div>\n",
       "<style>\n",
       "    .dataframe thead tr:only-child th {\n",
       "        text-align: right;\n",
       "    }\n",
       "\n",
       "    .dataframe thead th {\n",
       "        text-align: left;\n",
       "    }\n",
       "\n",
       "    .dataframe tbody tr th {\n",
       "        vertical-align: top;\n",
       "    }\n",
       "</style>\n",
       "<table border=\"1\" class=\"dataframe\">\n",
       "  <thead>\n",
       "    <tr style=\"text-align: right;\">\n",
       "      <th></th>\n",
       "      <th>expected_value</th>\n",
       "      <th>payout</th>\n",
       "      <th>series_win_probability</th>\n",
       "      <th>wins_required</th>\n",
       "    </tr>\n",
       "  </thead>\n",
       "  <tbody>\n",
       "    <tr>\n",
       "      <th>0</th>\n",
       "      <td>594000.000</td>\n",
       "      <td>990000</td>\n",
       "      <td>0.600000</td>\n",
       "      <td>1</td>\n",
       "    </tr>\n",
       "    <tr>\n",
       "      <th>1</th>\n",
       "      <td>635040.000</td>\n",
       "      <td>980000</td>\n",
       "      <td>0.648000</td>\n",
       "      <td>2</td>\n",
       "    </tr>\n",
       "    <tr>\n",
       "      <th>2</th>\n",
       "      <td>662083.200</td>\n",
       "      <td>970000</td>\n",
       "      <td>0.682560</td>\n",
       "      <td>3</td>\n",
       "    </tr>\n",
       "    <tr>\n",
       "      <th>3</th>\n",
       "      <td>681799.680</td>\n",
       "      <td>960000</td>\n",
       "      <td>0.710208</td>\n",
       "      <td>4</td>\n",
       "    </tr>\n",
       "    <tr>\n",
       "      <th>4</th>\n",
       "      <td>696760.704</td>\n",
       "      <td>950000</td>\n",
       "      <td>0.733432</td>\n",
       "      <td>5</td>\n",
       "    </tr>\n",
       "  </tbody>\n",
       "</table>\n",
       "</div>"
      ],
      "text/plain": [
       "   expected_value  payout  series_win_probability  wins_required\n",
       "0      594000.000  990000                0.600000              1\n",
       "1      635040.000  980000                0.648000              2\n",
       "2      662083.200  970000                0.682560              3\n",
       "3      681799.680  960000                0.710208              4\n",
       "4      696760.704  950000                0.733432              5"
      ]
     },
     "execution_count": 18,
     "metadata": {},
     "output_type": "execute_result"
    }
   ],
   "source": [
    "p = 0.6\n",
    "total_payout=10**6\n",
    "win_cost = 10**4\n",
    "\n",
    "wins_required = np.arange(1, 51)\n",
    "# series_win_p = series_win_probability(wins_required, p=p, verbose=False)\n",
    "series_win_p = [series_win_probability(w, p=p, verbose=False) for w in wins_required]\n",
    "payout = [total_payout - w * win_cost for w in wins_required]\n",
    "e_value = [expected_value(w, p=p) for w in wins_required]\n",
    "\n",
    "df = pd.DataFrame(\n",
    "    data={\n",
    "        'series_win_probability': series_win_p,\n",
    "        'payout': payout,\n",
    "        'expected_value': e_value,\n",
    "        'wins_required': wins_required,\n",
    "    }\n",
    ")\n",
    "df.head()"
   ]
  },
  {
   "cell_type": "code",
   "execution_count": 19,
   "metadata": {},
   "outputs": [
    {
     "data": {
      "text/plain": [
       "<matplotlib.axes._subplots.AxesSubplot at 0x7f8e823f2f98>"
      ]
     },
     "execution_count": 19,
     "metadata": {},
     "output_type": "execute_result"
    },
    {
     "data": {
      "image/png": "[encoded data removed]",
      "text/plain": [
       "<matplotlib.figure.Figure at 0x7f8e81f2c7f0>"
      ]
     },
     "metadata": {},
     "output_type": "display_data"
    }
   ],
   "source": [
    "df.plot.line(x='wins_required', y=['payout', 'expected_value'])"
   ]
  },
  {
   "cell_type": "code",
   "execution_count": 26,
   "metadata": {},
   "outputs": [
    {
     "data": {
      "text/plain": [
       "expected_value            736222.040991\n",
       "payout                    870000.000000\n",
       "series_win_probability         0.846232\n",
       "wins_required                 13.000000\n",
       "Name: 12, dtype: float64"
      ]
     },
     "execution_count": 26,
     "metadata": {},
     "output_type": "execute_result"
    }
   ],
   "source": [
    "df.iloc[df['expected_value'].argmax()]"
   ]
  },
  {
   "cell_type": "markdown",
   "metadata": {},
   "source": [
    "Let's put this altogether in an interactive form."
   ]
  },
  {
   "cell_type": "code",
   "execution_count": 33,
   "metadata": {},
   "outputs": [
    {
     "data": {
      "image/png": "[encoded data removed]",
      "text/plain": [
       "<matplotlib.figure.Figure at 0x7f8e7fb609b0>"
      ]
     },
     "metadata": {},
     "output_type": "display_data"
    }
   ],
   "source": [
    "def calculate_and_plot(n_max=50, p=0.6, total_payout=10**6, win_cost=10**4):\n",
    "    \"\"\"Calculate and plot the probabilities and payouts for various lengths of series.\n",
    "    \"\"\"\n",
    "    wins_required = np.arange(1, n_max+1)\n",
    "    # series_win_p = series_win_probability(wins_required, p=p, verbose=False)\n",
    "    series_win_p = [series_win_probability(w, p=p, verbose=False) for w in wins_required]\n",
    "    payout = [total_payout - w * win_cost for w in wins_required]\n",
    "    e_value = [expected_value(w, p=p) for w in wins_required]\n",
    "\n",
    "    df = pd.DataFrame(\n",
    "        data={\n",
    "            'series_win_probability': series_win_p, \n",
    "            'payout': payout, \n",
    "            'expected_value': e_value,\n",
    "            'wins_required': wins_required,\n",
    "        }\n",
    "    )\n",
    "    max_row = df.iloc[df['expected_value'].argmax()]\n",
    "    max_index = max_row['wins_required']\n",
    "    max_value = max_row['expected_value']\n",
    "    fig, (ax0, ax1, ax2) = plt.subplots(nrows=1, ncols=3, figsize=(15,4))\n",
    "    df.plot.line(x='wins_required', y=['payout', 'expected_value'], ax=ax0)\n",
    "    ax0.axhline(y=max_value, linestyle='dotted', color='black', alpha=0.5)\n",
    "    ax0.axvline(x=max_index, linestyle='dotted', color='black', alpha=0.5)\n",
    "    ax0.set_title('Maximum payout and expected value', fontsize=14)\n",
    "    ax0.set_xlabel('number of games required to win the series')\n",
    "    \n",
    "    df.plot.line(x='wins_required', y='series_win_probability', ax=ax1)\n",
    "    ax1.set_title('Probability of winning the series', fontsize=14)\n",
    "    ax1.set_xlabel('number of games required to win the series')\n",
    "    \n",
    "    series_lengths = np.arange(n_max, 2*n_max)\n",
    "    p_win_at_length = [series_win_probability_of_length(n_max, m, p=p) for m in series_lengths]\n",
    "    ax2.plot(series_lengths, p_win_at_length)\n",
    "    ax2.set_title('Probability of winning the {}-game series'.format(n_max), fontsize=14)\n",
    "    ax2.set_xlabel('total number of games played')\n",
    "\n",
    "\n",
    "calculate_and_plot(n_max=50, p=0.6)"
   ]
  },
  {
   "cell_type": "code",
   "execution_count": null,
   "metadata": {
    "collapsed": true
   },
   "outputs": [],
   "source": []
  }
 ],
 "metadata": {
  "kernelspec": {
   "display_name": "Python [conda env:py35]",
   "language": "python",
   "name": "conda-env-py35-py"
  },
  "language_info": {
   "codemirror_mode": {
    "name": "ipython",
    "version": 3
   },
   "file_extension": ".py",
   "mimetype": "text/x-python",
   "name": "python",
   "nbconvert_exporter": "python",
   "pygments_lexer": "ipython3",
   "version": "3.5.3"
  }
 },
 "nbformat": 4,
 "nbformat_minor": 2
}
