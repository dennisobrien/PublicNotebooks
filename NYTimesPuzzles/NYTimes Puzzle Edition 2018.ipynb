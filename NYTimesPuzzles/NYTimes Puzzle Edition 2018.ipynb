{
 "cells": [
  {
   "cell_type": "markdown",
   "metadata": {},
   "source": [
    "# New York Times Puzzle Edition 2018"
   ]
  },
  {
   "cell_type": "markdown",
   "metadata": {},
   "source": [
    "## Building Blocks\n",
    "\n",
    "In this section, each puzzle has a list of nine-letter words, each with three letters provided in either the first three, middle three, or last three positions.  We also get a list of three letter blocks that can be used exactly once and must be used in that order.\n",
    "\n",
    "### Word source\n",
    "\n",
    "The first iteration of this, I used the dictionary provided in most Linux systems at '/usr/share/dict/american-english'.  Using this as the source of words, the solver was not able to find a match for the first puzzle for the word starting with 'str'.  Looking at the available blocks, I guessed the word was 'strongman', and indeed this is missing from the dictionary.  (A simple `grep` search confirms this.)\n",
    "\n",
    "So then I turned to a larger corpus provided by `nltk.corpus.words`.  But this was also missing the word 'strongman'.  Finally I used the corpus `nltk.corpus.wordnet`.  This list does not include many common words, but it does include more uncommon words, and 'strongman' is included.\n",
    "\n"
   ]
  },
  {
   "cell_type": "code",
   "execution_count": 105,
   "metadata": {},
   "outputs": [
    {
     "name": "stderr",
     "output_type": "stream",
     "text": [
      "[nltk_data] Downloading package words to /home/dennis/nltk_data...\n",
      "[nltk_data]   Package words is already up-to-date!\n",
      "[nltk_data] Downloading package wordnet to /home/dennis/nltk_data...\n",
      "[nltk_data]   Package wordnet is already up-to-date!\n"
     ]
    },
    {
     "data": {
      "text/plain": [
       "True"
      ]
     },
     "execution_count": 105,
     "metadata": {},
     "output_type": "execute_result"
    }
   ],
   "source": [
    "import functools\n",
    "import nltk\n",
    "import pprint\n",
    "import re\n",
    "\n",
    "nltk.download('words')\n",
    "nltk.download('wordnet')"
   ]
  },
  {
   "cell_type": "code",
   "execution_count": 121,
   "metadata": {},
   "outputs": [
    {
     "name": "stdout",
     "output_type": "stream",
     "text": [
      "pol...... polemical ('emi', 'cal')\n",
      "imb...... imbroglio ('rog', 'lio')\n",
      "por...... porcupine ('cup', 'ine')\n",
      "str...... strongman ('ong', 'man')\n",
      "veg...... vegetable ('eta', 'ble')\n",
      "con...... contagion ('tag', 'ion')\n",
      "app...... appliance ('lia', 'nce')\n",
      "wee...... weeknight ('kni', 'ght')\n",
      "Unused blocks: {'mes', 'hti', 'hig'}\n"
     ]
    }
   ],
   "source": [
    "class BuildingBlocksCandidate():\n",
    "    \"\"\"Data structure for holding a single candidate solution to one of the entries.\n",
    "    \n",
    "    \"\"\"\n",
    "    def __init__(self, word_pattern, word, blocks):\n",
    "        \"\"\"\n",
    "        Args:\n",
    "            word_pattern: A string with some letters provided and the blanks represented by '.'\n",
    "            word: A word that matches `word_pattern` and the missing letters from `blocks`.\n",
    "            blocks: A list of strings used to complete `word` based on `word_pattern` and the\n",
    "                complete list of blocks.\n",
    "        \"\"\"\n",
    "        self.word_pattern = word_pattern\n",
    "        self.word = word\n",
    "        self.blocks = blocks\n",
    "    \n",
    "    def __repr__(self):\n",
    "        return f'BuildingBlocksCandidate(word_patter=\"{self.word_pattern}\", word=\"{self.word}\", blocks={self.blocks})'\n",
    "\n",
    "\n",
    "class BuildingBlocksEntry():\n",
    "    \"\"\"Data structure for holding a puzzle entry.  It maps a `word_pattern` to a list of `BuildingblocksCandidate` objects.\n",
    "    \n",
    "    A `BuildingBlocksEntry` can have zero or many `BuildingBlocksCandidate` objects.\n",
    "    \"\"\"\n",
    "    def __init__(self, word_pattern, candidates=None):\n",
    "        \"\"\"\n",
    "        Args:\n",
    "            word_pattern: A string with some letters provided and the blanks represented by '.'\n",
    "            candidates: If None, construct this object with an initial empty list of candidates.\n",
    "                Otherwise, provide the list of `BuildingBlocksCandidate` objects.\n",
    "        \"\"\"\n",
    "        self.word_pattern = word_pattern\n",
    "        if candidates is None:\n",
    "            self.candidates = []\n",
    "        else:\n",
    "            self.candidates = candidates\n",
    "    \n",
    "    def __repr__(self):\n",
    "        return f'BuildingBlocksEntry(word_pattern=\"{self.word_pattern}\", candidates={self.candidates})'\n",
    "    \n",
    "    def add_candidate(self, candidate):\n",
    "        \"\"\"Append a `BuildingBlocksCandidate` object to the list of candidates.\n",
    "        \n",
    "        Args:\n",
    "            candidate: `BuildingBlocksCandidate` object to add.\n",
    "        \"\"\"\n",
    "        self.candidates.append(candidate)\n",
    "    \n",
    "    def get_candidates(self):\n",
    "        \"\"\"Get the list of candidates.\n",
    "        \n",
    "        Returns:\n",
    "            A list of `BuildingBlocksCandidate` objects.\n",
    "        \"\"\"\n",
    "        return self.candidates\n",
    "\n",
    "\n",
    "class BuildingBlocksPuzzle():\n",
    "    \"\"\"Represents an entire puzzle.\n",
    "    \n",
    "    \"\"\"\n",
    "    def __init__(self, word_patterns, blocks, solver=None, word_provider=None):\n",
    "        \"\"\"\n",
    "        Args:\n",
    "            word_patterns: A list of strings, each with some letters provided and the blanks represented by '.'\n",
    "                Each pattern must be the same length, have the same block length, and have the same position for\n",
    "                the provided words.\n",
    "            blocks: A list of strings to use for constructing the words given the `word_patterns`\n",
    "            solver: An object of class derived from `ConstraintSolverBase` used for solving the puzzle.\n",
    "                This allows easy experimentation of different solvers.\n",
    "                If None, the default solver `ConstraintSolverSimple` is used.\n",
    "            word_provider: An object of class derived from `WordProviderBase` used for providing a list of\n",
    "                words in the vocabulary.\n",
    "                If None, the default `WordProviderNltkWordnet` is used.\n",
    "        \"\"\"\n",
    "        self.word_patterns = word_patterns\n",
    "        self.blocks = blocks\n",
    "        if solver is None:\n",
    "            self.solver = ConstraintSolverSimple()\n",
    "        if word_provider is None:\n",
    "            self.word_provider = WordProviderNltkWordnet()\n",
    "        self.word_length = BuildingBlocksPuzzle.get_item_length(word_patterns)\n",
    "        self.block_length = BuildingBlocksPuzzle.get_item_length(blocks)\n",
    "    \n",
    "    def solve(self, verbose=False):\n",
    "        candidate_dct, used_blocks, unused_blocks = self.solver.solve(\n",
    "            self.word_patterns,\n",
    "            self.blocks,\n",
    "            self.word_provider,\n",
    "            verbose=verbose,\n",
    "        )\n",
    "        if verbose:\n",
    "            BuildingBlocksPuzzle.print_solution(candidate_dct, unused_blocks)\n",
    "        return candidate_dct, used_blocks, unused_blocks\n",
    "        \n",
    "    @staticmethod\n",
    "    def get_item_length(items):\n",
    "        \"\"\"Helper function to determine the length of the words or blocks.\n",
    "        \n",
    "        If the lengths of the items are not uniform, a `ValueError` will be raised.\"\"\"\n",
    "        lengths = [len(b) for b in items]\n",
    "        if min(lengths) != max(lengths):\n",
    "            raise ValueError('The length of the items must be the same.')\n",
    "        return min(lengths)\n",
    "    \n",
    "    @staticmethod\n",
    "    def get_re_pattern(word_pattern, blocks):\n",
    "        \"\"\"Given the `word_pattern` of the form 'abc......' or '...abc...' or '......abc'\n",
    "        and the available blocks, return the regular expression pattern to compile.\n",
    "        \"\"\"\n",
    "        re_pattern = '^'  # start of word\n",
    "        block_length = BuildingBlocksPuzzle.get_item_length(blocks)\n",
    "        # Fill the blanks with regexp match patterns.\n",
    "        for idx in range(0, len(word_pattern), block_length):\n",
    "            chunk = word_pattern[idx:idx+block_length]\n",
    "            if chunk == '.' * block_length:\n",
    "                # Matching group with all the strings from `blocks` or'ed.\n",
    "                pattern = '({})'.format('|'.join(blocks))  # e.g., (abc|def|ghi)\n",
    "                # pattern = f'(\\w{{{block_length}}})'  # e.g., '(\\w{3})'  # Useful pattern for debugging.\n",
    "                re_pattern += pattern\n",
    "            elif '.' in chunk:\n",
    "                raise ValueError('Chunks should be all letters or all \".\", instead got {}'.format(chunk))\n",
    "            else:\n",
    "                re_pattern += chunk\n",
    "        re_pattern += '$'  # end of word\n",
    "        return re_pattern\n",
    "    \n",
    "    @staticmethod\n",
    "    def print_solution(candidate_dct, unused_blocks):\n",
    "        for word_pattern, entry in candidate_dct.items():\n",
    "            candidates = entry.get_candidates()\n",
    "            candidate = candidates[0]\n",
    "            print(candidate.word_pattern, candidate.word, candidate.blocks)\n",
    "        print('Unused blocks:', unused_blocks)\n",
    "\n",
    "\n",
    "class WordProviderBase():\n",
    "    def words(self):\n",
    "        raise NotImplementedError('Implement this method!')\n",
    "    \n",
    "class WordProviderNltkWords(WordProviderBase):\n",
    "    @functools.lru_cache(maxsize=128)\n",
    "    def words(self):\n",
    "        return nltk.corpus.words.words()\n",
    "\n",
    "class WordProviderNltkWordnet(WordProviderBase):\n",
    "    @functools.lru_cache(maxsize=128)\n",
    "    def words(self):\n",
    "        return list(nltk.corpus.wordnet.words())\n",
    "\n",
    "class WordProviderFile(WordProviderBase):\n",
    "    @functools.lru_cache(maxsize=128)\n",
    "    def words(self):\n",
    "        with open('/usr/share/dict/american-english', 'r') as f:\n",
    "            return f.read().splitlines()\n",
    "\n",
    "class ConstraintSolverBase():\n",
    "    def solve(self, word_patterns, blocks, word_provider, verbose=False):\n",
    "        \"\"\"\n",
    "        Returns a tuple of three items:\n",
    "            - A dictionary mapping the word pattern to a `BuildingBlockEntry` with a single candidate\n",
    "            - A set of used blocks\n",
    "            - A set of unused blocks\n",
    "\n",
    "        \"\"\"\n",
    "        candidate_dct = {}\n",
    "        for word_pattern in word_patterns:\n",
    "            candidate_dct[word_pattern] = self.find_candidates(word_pattern, blocks, word_provider)\n",
    "        # if verbose:\n",
    "        #     print('Candidate words:')\n",
    "        #     pprint.pprint(candidate_dct)\n",
    "        used_blocks = set([])\n",
    "        unused_blocks = set(blocks)\n",
    "        for word_pattern, entry in candidate_dct.items():\n",
    "            for candidate in entry.get_candidates():\n",
    "                blks = candidate.blocks\n",
    "                used_blocks.update(set(blks))\n",
    "                unused_blocks.difference_update(set(blks))\n",
    "        return candidate_dct, used_blocks, unused_blocks\n",
    "\n",
    "    @staticmethod\n",
    "    def find_candidates(word_pattern, blocks, word_provider):\n",
    "        \"\"\"Return a `BuildingBlocksEntry` that fits the `word_pattern` and the `blocks`.\n",
    "        \n",
    "        This does not apply any constraint logic.\n",
    "        \"\"\"\n",
    "        word_length = len(word_pattern)\n",
    "        candidates = {}\n",
    "        pattern = BuildingBlocksPuzzle.get_re_pattern(word_pattern, blocks)\n",
    "        p = re.compile(pattern)\n",
    "        words = word_provider.words()\n",
    "        entry = BuildingBlocksEntry(word_pattern)\n",
    "        for word in words:\n",
    "            # word = word.strip().lower()\n",
    "            if len(word) != word_length:\n",
    "                continue\n",
    "            matches = p.finditer(word)\n",
    "            if matches:\n",
    "                for match in matches:\n",
    "                    blocks_used = tuple(match.groups())\n",
    "                    entry.add_candidate(BuildingBlocksCandidate(word_pattern, word, blocks_used))\n",
    "        return entry\n",
    "\n",
    "\n",
    "class ConstraintSolverSimple(ConstraintSolverBase):\n",
    "    \"\"\"Simple strategy that makes some broad assumptions:\n",
    "        1) Each word pattern is mapped to exactly one candidate.\n",
    "        2) Each block is used at most one time.\n",
    "    \n",
    "    \"\"\"\n",
    "    def solve(self, word_patterns, blocks, word_provider, verbose=False):\n",
    "        candidate_dct, used_blocks, unused_blocks = super().solve(word_patterns, blocks, word_provider, verbose=verbose)\n",
    "        # ensure each word pattern is mapped to exactly one candidate\n",
    "        error_messages = []\n",
    "        for word_pattern, entry in candidate_dct.items():\n",
    "            if len(entry.get_candidates()) != 1:\n",
    "                error_messages.append(f'Expected exactly one candidate for {word_pattern}, found {entry.get_candidates()}')\n",
    "        if len(error_messages) > 0:\n",
    "            print(error_messages)\n",
    "            raise ValueError('Constraints not met.')\n",
    "        return candidate_dct, used_blocks, unused_blocks\n",
    "\n",
    "\n",
    "class ConstraintSolverSearch(ConstraintSolverBase):\n",
    "    \"\"\"A solver that can handle situations where there are more than one candidate for a word pattern.\n",
    "    \n",
    "    The strategy is to treat each candidate within an entry as a node, then approach the problem as \n",
    "    a graph search with constraint propagation.  The algorithm goes like this:\n",
    "        - Order the entries from least number of candidates to most.\n",
    "        - While we have not satisfied all the constraints\n",
    "            - Visit the next available entry\n",
    "            - Push the next available candidate on the stack, considering the blocks already used.\n",
    "            - Add the blocks for the candidate to the list of used blocks.\n",
    "            - If no candidates are available, pop the candidate from the stack.\n",
    "    # A more complex solver would first settle all the clues with a single candidate,\n",
    "        # then search the remaining solution spaces.\n",
    "        # This can be implemented as a search where we order the nodes for visiting from\n",
    "        # the least number of candidates to the most.  After visting each node and \"locking\"\n",
    "        # it, we update the others to remove any candidates using any of the blocks just locked.\n",
    "\n",
    "    \"\"\"\n",
    "    def solve(self, word_patterns, blocks, word_provider, verbose=False):\n",
    "        candidate_dct, used_blocks, unused_blocks = super().solve(word_patterns, blocks, word_provider, verbose=verbose)\n",
    "        # TODO: pseudocode for now\n",
    "        blocks_used = set([])\n",
    "        for word_pattern, entry in sorted(candidate_dct.items(), key=lambda e: (e.n_candidates, entry.word)):\n",
    "            candidates = [candidate for candidate in entry.get_candidates() if blocks_used.is_disjoint(set(candidate.blocks))]\n",
    "            \n",
    "        # \n",
    "        return candidate_dct, used_blocks, unused_blocks\n",
    "\n",
    "\n",
    "p1 = BuildingBlocksPuzzle(\n",
    "    word_patterns=[\n",
    "        'pol......', 'imb......', 'por......', 'str......', \n",
    "        'veg......', 'con......', 'app......', 'wee......',\n",
    "    ],\n",
    "    blocks=[\n",
    "        'ble', 'cal', 'cup', 'emi',\n",
    "        'eta', 'ght', 'hig', 'hti',\n",
    "        'ine', 'ion', 'kni', 'lia',\n",
    "        'lio', 'man', 'mes', 'nce',\n",
    "        'ong', 'rog', 'tag',\n",
    "    ],\n",
    ")\n",
    "candidate_dct, used_blocks, unused_blocks = p1.solve(verbose=True)"
   ]
  },
  {
   "cell_type": "code",
   "execution_count": null,
   "metadata": {},
   "outputs": [],
   "source": []
  },
  {
   "cell_type": "code",
   "execution_count": 100,
   "metadata": {},
   "outputs": [
    {
     "name": "stdout",
     "output_type": "stream",
     "text": [
      "...ilo... soliloquy ('sol', 'quy')\n",
      "...bfo... dumbfound ('dum', 'und')\n",
      "...irw... stairwell ('sta', 'ell')\n",
      "...mis... commissar ('com', 'sar')\n",
      "...lic... afflicted ('aff', 'ted')\n",
      "...erb... ytterbium ('ytt', 'ium')\n",
      "...per... chaperone ('cha', 'one')\n",
      "...tai... certainty ('cer', 'nty')\n",
      "Unused blocks: {'nom', 'ean', 'sno'}\n"
     ]
    }
   ],
   "source": [
    "p2 = BuildingBlocksPuzzle(\n",
    "    word_patterns=[\n",
    "        '...ilo...', '...bfo...', '...irw...', '...mis...',\n",
    "        '...lic...', '...erb...', '...per...', '...tai...',\n",
    "    ],\n",
    "    blocks=[\n",
    "        'aff', 'cer', 'cha', 'com',\n",
    "        'dum', 'ean', 'ell', 'ium',\n",
    "        'nom', 'nty', 'one', 'quy',\n",
    "        'sar', 'sno', 'sol', 'sta',\n",
    "        'ted', 'und', 'ytt',\n",
    "    ],\n",
    ")\n",
    "candidate_dct, used_blocks, unused_blocks = p2.solve(verbose=True)"
   ]
  },
  {
   "cell_type": "code",
   "execution_count": 101,
   "metadata": {},
   "outputs": [
    {
     "name": "stdout",
     "output_type": "stream",
     "text": [
      "......lly hopefully ('hop', 'efu')\n",
      "......ang boomerang ('boo', 'mer')\n",
      "......day yesterday ('yes', 'ter')\n",
      "......ide blindside ('bli', 'nds')\n",
      "......ish establish ('est', 'abl')\n",
      "......chy oligarchy ('oli', 'gar')\n",
      "......ous vivacious ('viv', 'aci')\n",
      "......ast breakfast ('bre', 'akf')\n",
      "Unused blocks: {'ing', 'ego', 'nic'}\n"
     ]
    }
   ],
   "source": [
    "p3 = BuildingBlocksPuzzle(\n",
    "    word_patterns=[\n",
    "        '......lly', '......ang', '......day', '......ide',\n",
    "        '......ish', '......chy', '......ous', '......ast',\n",
    "    ],\n",
    "    blocks=[\n",
    "        'abl', 'aci', 'akf', 'bli',\n",
    "        'boo', 'bre', 'efu', 'ego',\n",
    "        'est', 'gar', 'hop', 'ing',\n",
    "        'mer', 'nds', 'nic', 'oli',\n",
    "        'ter', 'viv', 'yes',\n",
    "    ],\n",
    ")\n",
    "candidate_dct, used_blocks, unused_blocks = p3.solve(verbose=True)"
   ]
  },
  {
   "cell_type": "code",
   "execution_count": null,
   "metadata": {},
   "outputs": [],
   "source": []
  },
  {
   "cell_type": "markdown",
   "metadata": {},
   "source": [
    "### Profiling performance"
   ]
  },
  {
   "cell_type": "code",
   "execution_count": 122,
   "metadata": {},
   "outputs": [
    {
     "name": "stdout",
     "output_type": "stream",
     "text": [
      "CPU times: user 144 ms, sys: 0 ns, total: 144 ms\n",
      "Wall time: 143 ms\n"
     ]
    }
   ],
   "source": [
    "%time candidate_dct, used_blocks, unused_blocks = p1.solve()"
   ]
  },
  {
   "cell_type": "code",
   "execution_count": 123,
   "metadata": {},
   "outputs": [
    {
     "name": "stdout",
     "output_type": "stream",
     "text": [
      " "
     ]
    },
    {
     "data": {
      "text/plain": [
       "         1295497 function calls in 0.231 seconds\n",
       "\n",
       "   Ordered by: internal time\n",
       "\n",
       "   ncalls  tottime  percall  cumtime  percall filename:lineno(function)\n",
       "        8    0.149    0.019    0.231    0.029 <ipython-input-121-04a03061f6bc>:182(find_candidates)\n",
       "  1178625    0.053    0.000    0.053    0.000 {built-in method builtins.len}\n",
       "   116680    0.029    0.000    0.029    0.000 {method 'finditer' of 're.Pattern' objects}\n",
       "        8    0.000    0.000    0.000    0.000 <ipython-input-121-04a03061f6bc>:107(get_re_pattern)\n",
       "        1    0.000    0.000    0.231    0.231 <ipython-input-121-04a03061f6bc>:159(solve)\n",
       "        8    0.000    0.000    0.000    0.000 <ipython-input-121-04a03061f6bc>:102(<listcomp>)\n",
       "        8    0.000    0.000    0.000    0.000 <ipython-input-121-04a03061f6bc>:26(__init__)\n",
       "        8    0.000    0.000    0.000    0.000 <ipython-input-121-04a03061f6bc>:97(get_item_length)\n",
       "        8    0.000    0.000    0.000    0.000 {built-in method builtins.isinstance}\n",
       "        8    0.000    0.000    0.000    0.000 re.py:271(_compile)\n",
       "        1    0.000    0.000    0.231    0.231 {built-in method builtins.exec}\n",
       "       16    0.000    0.000    0.000    0.000 {built-in method builtins.min}\n",
       "        8    0.000    0.000    0.000    0.000 <ipython-input-121-04a03061f6bc>:5(__init__)\n",
       "       16    0.000    0.000    0.000    0.000 {method 'format' of 'str' objects}\n",
       "       16    0.000    0.000    0.000    0.000 {method 'join' of 'str' objects}\n",
       "        8    0.000    0.000    0.000    0.000 <ipython-input-121-04a03061f6bc>:42(add_candidate)\n",
       "        8    0.000    0.000    0.000    0.000 {method 'groups' of 're.Match' objects}\n",
       "        1    0.000    0.000    0.231    0.231 <ipython-input-121-04a03061f6bc>:212(solve)\n",
       "        8    0.000    0.000    0.000    0.000 {built-in method builtins.max}\n",
       "        8    0.000    0.000    0.000    0.000 {method 'append' of 'list' objects}\n",
       "        1    0.000    0.000    0.231    0.231 <string>:1(<module>)\n",
       "        8    0.000    0.000    0.000    0.000 re.py:232(compile)\n",
       "        8    0.000    0.000    0.000    0.000 {method 'difference_update' of 'set' objects}\n",
       "        8    0.000    0.000    0.000    0.000 {method 'update' of 'set' objects}\n",
       "        2    0.000    0.000    0.000    0.000 {method 'items' of 'dict' objects}\n",
       "        1    0.000    0.000    0.231    0.231 <ipython-input-121-04a03061f6bc>:86(solve)\n",
       "       16    0.000    0.000    0.000    0.000 <ipython-input-121-04a03061f6bc>:50(get_candidates)\n",
       "        1    0.000    0.000    0.000    0.000 {method 'disable' of '_lsprof.Profiler' objects}"
      ]
     },
     "metadata": {},
     "output_type": "display_data"
    }
   ],
   "source": [
    "%prun p1.solve()"
   ]
  },
  {
   "cell_type": "code",
   "execution_count": 126,
   "metadata": {},
   "outputs": [],
   "source": [
    "%load_ext line_profiler"
   ]
  },
  {
   "cell_type": "code",
   "execution_count": 129,
   "metadata": {},
   "outputs": [
    {
     "data": {
      "text/plain": [
       "Timer unit: 1e-06 s\n",
       "\n",
       "Total time: 2.89063 s\n",
       "File: <ipython-input-121-04a03061f6bc>\n",
       "Function: solve at line 86\n",
       "\n",
       "Line #      Hits         Time  Per Hit   % Time  Line Contents\n",
       "==============================================================\n",
       "    86                                               def solve(self, verbose=False):\n",
       "    87         1          8.0      8.0      0.0          candidate_dct, used_blocks, unused_blocks = self.solver.solve(\n",
       "    88         1          5.0      5.0      0.0              self.word_patterns,\n",
       "    89         1          2.0      2.0      0.0              self.blocks,\n",
       "    90         1          3.0      3.0      0.0              self.word_provider,\n",
       "    91         1    2890610.0 2890610.0    100.0              verbose=verbose,\n",
       "    92                                                   )\n",
       "    93         1          0.0      0.0      0.0          if verbose:\n",
       "    94                                                       BuildingBlocksPuzzle.print_solution(candidate_dct, unused_blocks)\n",
       "    95         1          0.0      0.0      0.0          return candidate_dct, used_blocks, unused_blocks\n",
       "\n",
       "Total time: 1.49245 s\n",
       "File: <ipython-input-121-04a03061f6bc>\n",
       "Function: find_candidates at line 182\n",
       "\n",
       "Line #      Hits         Time  Per Hit   % Time  Line Contents\n",
       "==============================================================\n",
       "   182                                               @staticmethod\n",
       "   183                                               def find_candidates(word_pattern, blocks, word_provider):\n",
       "   184                                                   \"\"\"Return a `BuildingBlocksEntry` that fits the `word_pattern` and the `blocks`.\n",
       "   185                                                   \n",
       "   186                                                   This does not apply any constraint logic.\n",
       "   187                                                   \"\"\"\n",
       "   188         8          9.0      1.1      0.0          word_length = len(word_pattern)\n",
       "   189         8          5.0      0.6      0.0          candidates = {}\n",
       "   190         8        323.0     40.4      0.0          pattern = BuildingBlocksPuzzle.get_re_pattern(word_pattern, blocks)\n",
       "   191         8         88.0     11.0      0.0          p = re.compile(pattern)\n",
       "   192         8         24.0      3.0      0.0          words = word_provider.words()\n",
       "   193         8         39.0      4.9      0.0          entry = BuildingBlocksEntry(word_pattern)\n",
       "   194   1178456     432455.0      0.4     29.0          for word in words:\n",
       "   195                                                       # word = word.strip().lower()\n",
       "   196   1178448     496494.0      0.4     33.3              if len(word) != word_length:\n",
       "   197   1061768     372488.0      0.4     25.0                  continue\n",
       "   198    116680      79291.0      0.7      5.3              matches = p.finditer(word)\n",
       "   199    116680      44949.0      0.4      3.0              if matches:\n",
       "   200    116688      66173.0      0.6      4.4                  for match in matches:\n",
       "   201         8         18.0      2.2      0.0                      blocks_used = tuple(match.groups())\n",
       "   202         8         88.0     11.0      0.0                      entry.add_candidate(BuildingBlocksCandidate(word_pattern, word, blocks_used))\n",
       "   203         8          3.0      0.4      0.0          return entry"
      ]
     },
     "metadata": {},
     "output_type": "display_data"
    }
   ],
   "source": [
    "%lprun -f BuildingBlocksPuzzle.solve -f ConstraintSolverBase.find_candidates p1.solve()"
   ]
  },
  {
   "cell_type": "code",
   "execution_count": 124,
   "metadata": {},
   "outputs": [],
   "source": [
    "%load_ext memory_profiler"
   ]
  },
  {
   "cell_type": "code",
   "execution_count": 130,
   "metadata": {},
   "outputs": [
    {
     "name": "stdout",
     "output_type": "stream",
     "text": [
      "peak memory: 216.02 MiB, increment: 0.00 MiB\n"
     ]
    }
   ],
   "source": [
    "%memit p1.solve()"
   ]
  },
  {
   "cell_type": "code",
   "execution_count": null,
   "metadata": {},
   "outputs": [],
   "source": []
  }
 ],
 "metadata": {
  "kernelspec": {
   "display_name": "py37",
   "language": "python",
   "name": "python3"
  },
  "language_info": {
   "codemirror_mode": {
    "name": "ipython",
    "version": 3
   },
   "file_extension": ".py",
   "mimetype": "text/x-python",
   "name": "python",
   "nbconvert_exporter": "python",
   "pygments_lexer": "ipython3",
   "version": "3.7.1"
  }
 },
 "nbformat": 4,
 "nbformat_minor": 2
}
