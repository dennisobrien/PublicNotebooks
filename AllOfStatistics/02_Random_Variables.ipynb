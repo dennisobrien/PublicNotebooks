{
 "metadata": {
  "name": "",
  "signature": "sha256:8b3962de9a22d79fda8422dc9628e374897fa3f0b4bf4e19d669f0bec929c6d3"
 },
 "nbformat": 3,
 "nbformat_minor": 0,
 "worksheets": [
  {
   "cells": [
    {
     "cell_type": "heading",
     "level": 1,
     "metadata": {},
     "source": [
      "All of Statistics"
     ]
    },
    {
     "cell_type": "heading",
     "level": 2,
     "metadata": {},
     "source": [
      "Chapter 2: Random Variables"
     ]
    },
    {
     "cell_type": "markdown",
     "metadata": {},
     "source": [
      "A **random variable** is a mapping, $X: \\Omega \\mapsto \\mathbb{R}$, that assigns a real number $X(\\omega)$ to each outcome $\\omega$.\n",
      "\n",
      "The **cumulative distribution function**, or CDF, is the function $F_X(x) = P(X \\leq x)$.\n",
      "\n",
      "Properites of a CDF:\n",
      "1. F is non-decreasing: $x_1 < x_2$ implies $F(x_1) \\leq F(x_2)$\n",
      "1. F is normalized: $lim_{x \\rightarrow -\\infty} F(x) = 0$ and $lim_{x \\rightarrow \\infty} F(x) = 1$\n",
      "1. F is right-continuous: $F(x) = F(x^+)$ for all x, where $F(x^+) = lim_{y \\rightarrow x, y>x}F(y)$.\n",
      "\n",
      "X is **discrete** if it takes countably many values $\\{x_1, x_2, ...\\}$.  We define the **probablity function** or **probability mass function** for X by $f_X(x) = P(X=x)$.\n",
      "\n",
      "A random variable X is **continuous** if there exists a function $f_X$ such that \n",
      "- $f_X(x) \\geq 0$ for all x\n",
      "- $\\int_{-\\infty}^{\\infty}f_X(x)dx = 1$\n",
      "- and for every $a \\leq b$, $P(a < X < b) = \\int_a^b f_X(x)dx$\n",
      "\n",
      "The function $f_X$ is called the **probablity density function** (PDF).\n",
      "\n",
      "$F_X(x) = \\int_{-\\infty}^x f_X(t)dt$\n",
      "\n",
      "$f_X(x) = F_X^{'}(x)$ at all points x at which $F_X$ is differentiable.\n",
      "\n",
      "Let F be the CDF for a random variable X.  Then:\n",
      "- $P(X=x) = F(x) - F(x^-)$\n",
      "- $P(x < X \\leq y) = F(y) - F(x)$\n",
      "- $P(X > x) = 1 - F(x)$\n",
      "- If X is continuous, then $F(b) - F(a) = P(a < X < b) = P(a \\leq X < b) = P(a < X \\leq b) = P(a \\leq X \\leq b)$\n",
      "\n",
      "Let X be a random variable with CDF F.  The **inverse CDF** or **quantile function** is defined by $F^{-1}(q) = inf\\{x: F(x) > q\\}$ for $q \\in [0,1]$.\n",
      "\n",
      "$F^{-1}(1/4)$ is the **first quartile**.  $F^{-1}(1/2)$ is the **median**."
     ]
    },
    {
     "cell_type": "markdown",
     "metadata": {},
     "source": [
      "####Some Important Discrete Random Variables####\n",
      "\n",
      "X ~ F means \"X has distribution F\".\n",
      "\n",
      "- Point Mass Distribution.<br>\n",
      "X has a point mass distribution at a, f(x)=1 for x=a and 0 otherwise.\n",
      "- Discrete Uniform Distribution\n",
      "- Bernoulli Distribution.<br>\n",
      "P(X=1)=p, P(X=0)=1-p, for $p \\in [0,1]$.<br>\n",
      "X ~ Bernoulli(p).<br>\n",
      "$f(x) = p^x(1-p)^{1-x}$ for $x \\in \\{0,1\\}$\n",
      "- Binomial Distribution<br>\n",
      "Flip a coin n times with probability of heads $0 \\leq p \\leq 1$, let X be the number of heads.<br>\n",
      "$f(x) = P(X=x)$ is the mass function.<br>\n",
      "$f(x) = \\binom{n}{x}p^x(1-p)^{n-x}$, for x = 0,...,n, 0 otherwise.<br>\n",
      "X ~ Binomial(n,p)\n",
      "- Geometric Distribution<br>\n",
      "$P(X=k) = p(1-p)^{k-1}, k \\geq 1$<br>\n",
      "Think of X as the number of flips needed until the first head when flipping a coin.\n",
      "- Poisson Distribution<br>\n",
      "X has a Poisson distribution with parameter $\\lambda$, written X ~ Poisson($\\lambda$) if<br>\n",
      "$f(x) = e^{-\\lambda}\\cfrac{\\lambda^x}{x!}, x \\geq 0$<br>\n",
      "The Poisson is often used as a model for counts of rare events like radioactive decay and traffic accidents."
     ]
    },
    {
     "cell_type": "markdown",
     "metadata": {},
     "source": [
      "####Some Important Continuous Random Variables####\n",
      "\n",
      "- Uniform Distribution<br>\n",
      "X ~ Uniform(a,b)<br>\n",
      "$f(x) = \\frac{1}{b-a}$ for $x \\in [a,b]$, 0 otherwise.<br>\n",
      "The distribution function is<br>\n",
      "$F(x) = \\begin{cases} 0 &\\mbox{if } x<a \\\\\n",
      "\\frac{x-a}{b-a} &\\mbox{if } x \\in [a,b] \\\\\n",
      "1 &\\mbox{if } x > b \\end{cases}$\n",
      "- Normal (Gaussian)<br>\n",
      "X has a Normal (or Gaussian) distribution with parameters $\\mu$ and $\\sigma$, denoted $X \\sim N(\\mu, \\sigma^2)$, if<br>\n",
      "$f(x) = \\cfrac{1}{\\sigma\\sqrt{2\\pi}}exp{-\\cfrac{1}{2\\sigma^2}(x - \\mu)^2}$<br>\n",
      "where $x \\in \\mathbb{R}, \\mu \\in \\mathbb{R}, \\sigma > 0$<br>\n",
      "$\\mu$ is the center or mean, $\\sigma$ is the spread or standard deviation.\n",
      "\n",
      "X has a **standard normal distribution** if $\\mu=0$ and $\\sigma=1$.  The standard normal is traditionally denoted by Z, the PDF by $\\phi(Z)$ and the CDF by $\\Phi(Z)$.\n",
      "\n",
      "1. If $X \\sim N(\\mu, \\sigma^2)$, then $Z = (X - \\mu)/\\sigma \\sim N(0,1)$\n",
      "1. If $Z \\sim N(0,1)$, then $X = \\mu + \\sigma Z \\sim N(\\mu, \\sigma^2)$\n",
      "1. If $X_i \\sim N(\\mu_i, \\sigma_i^2)$, i=1,...n, are independent, then $\\sum_{i=1}^{n}X_i \\sim N(\\sum_{i=1}^{n}\\mu_i, \\sum_{i=1}^{n}\\sigma_i^2)$\n",
      "\n",
      "If $X \\sim N(\\mu, \\sigma^2)$, then<br>\n",
      "$P(a < X < b) = P(\\cfrac{a-\\mu}{\\sigma} < Z < \\cfrac{b-\\mu}{\\sigma}) = \\Phi(\\cfrac{b-\\mu}{\\sigma}) - \\Phi(\\cfrac{a-\\mu}{\\sigma})$\n",
      "\n",
      "(There is no closed form expression for $\\Phi$.)\n",
      "\n",
      "- Exponential Distribution<br>\n",
      "$X \\sim Exp(\\beta)$, if<br>\n",
      "$f(x) = \\cfrac{1}{\\beta}e^{x/\\beta}$<br>\n",
      "where x>0, $beta>0$\n",
      "- Gamma Distribution<br>\n",
      "$\\Gamma(\\alpha) = \\int_0^{\\infty}y^{\\alpha-1}e^{-y}dy$<br>, for $\\alpha>0$.<br>\n",
      "$X \\sim Gamma(\\alpha, \\beta)$, if<br>\n",
      "$f(x) = \\cfrac{1}{\\beta^\\alpha \\Gamma(\\alpha)}x^{\\alpha-1}e^{-x/\\beta}, x>0$,<br>\n",
      "where $\\alpha>0, \\beta>0$\n",
      "- Beta Distribution<br>\n",
      "$X \\sim Beta(\\alpha, \\beta)$, $\\alpha > 0$, $\\beta > 0$, if<br>\n",
      "$f(x) = \\cfrac{\\Gamma(\\alpha + \\beta)}{\\Gamma(\\alpha)\\Gamma(\\beta)}x^{\\alpha-1}(1-x)^{\\beta-1}$, $0<x<1$\n",
      "- t Distribution<br>\n",
      "X has a $t$ distribution with $\\nu$ degrees of freedom, written<br>\n",
      "$X \\sim t_\\nu$<br>\n",
      "$f(x) = \\cfrac{\\Gamma(\\frac{\\nu+1}{2})}{\\Gamma(\\frac{\\nu}{2})}\\cfrac{1}{(1+\\frac{x^2}{\\nu})^{(\\nu+1)/2}}$\n",
      "- Cauchy Distribution<br>\n",
      "The Cauchy Distribution is a special case of the $t$ distribution corresponding to $\\nu=1$.  The density is<br>\n",
      "$f(x) = \\cfrac{1}{\\pi(1 + x^2)}$\n",
      "- $\\chi^2$ Distribution<br>\n",
      "X has a $\\chi^2$ distribution with p degrees of freedom, written<br>\n",
      "$X \\sim \\chi_p^2$, if<br>\n",
      "$f(x) = \\cfrac{1}{\\Gamma(p/2)2^{p/2}}x^{(p/2)-1}e^{-x/2}$, x>0<br>\n",
      "If $Z_1,...,Z_p$ are independent standard Normal random variables, then $\\sum_{i=1}^{p}Z_i^2 \\sim \\chi_p^2$"
     ]
    },
    {
     "cell_type": "markdown",
     "metadata": {},
     "source": [
      "####Bivariate Distributions####\n",
      "\n",
      "**Join mass function** of a pair of discrete random variables X and Y, f(x,y) = P(X=x and Y=y) = P(X=x, Y=y)\n",
      "\n",
      "In the continuous case, a function f(x,y) is a PDF of the random variables (X,Y) if<br>\n",
      "- $f(x,y) \\geq 0$ for all (x,y)\n",
      "- $\\int_{-\\infty}^{\\infty}\\int_{-\\infty}^{\\infty}f(x,y)dxdy = 1$\n",
      "- For any set $A \\subset \\mathbb{R}^2$, $P((X,Y) \\in A) = \\int\\int_A f(x,y)dxdy$\n",
      "\n",
      "In the discrete or continuous case we define the join CDF as<br>\n",
      "$F_{X,Y}(x,y) = P(X \\leq x, Y \\leq y)$"
     ]
    },
    {
     "cell_type": "markdown",
     "metadata": {},
     "source": [
      "####Marginal Distributions####\n",
      "\n",
      "If (X,Y) have a joint distribution with mass function $f_{X,Y}$, then the **marginal mass function** for X is defined by<br>\n",
      "$f_X(x) = P(X=x) = \\sum_y P(X=x,Y=y) = \\sum_y f(x,y)$\n",
      "\n",
      "Similarly the marginal mass function for Y is defined by<br>\n",
      "$f_Y(y) = P(Y=y) = \\sum_x P(X=x,Y=y) = \\sum_x f(x,y)$\n",
      "\n",
      "And for continuous random variables, the marginal densities are<br>\n",
      "$f_X(x) = \\int f(x,y)dy$<br>\n",
      "$f_Y(y) = \\int f(x,y)dx$\n",
      "\n"
     ]
    },
    {
     "cell_type": "markdown",
     "metadata": {},
     "source": [
      "####Independent Random Variables####\n",
      "\n",
      "Two random variables X and Y are **independent** if, for every A and B,<br>\n",
      "$P(X \\in A,Y \\in B) = P(X \\in A)P(Y \\in B)$\n",
      "\n",
      "and we write $X \\coprod Y$\n",
      "\n",
      "Let X and Y have join PDF $f_{X,Y}$.  then $X \\coprod Y$ iff $f_{X,Y}(x,y) = f_X(x)f_Y(y)$ for all values of x and y.\n",
      "\n",
      "Suppose the range of X and Y is a (possibly infinite) rectangle.  If f(x,y)=g(x)h(y) for some functions g and h (not necessarily probablity density functions) then X and Y are independent.\n",
      "\n"
     ]
    },
    {
     "cell_type": "markdown",
     "metadata": {},
     "source": [
      "####Conditional Distributions####\n",
      "\n",
      "The **conditional probability mass function** is<br>\n",
      "$f_{X|Y}(x|y) = P(X=x|Y=y) = \\cfrac{P(X=x,Y=y)}{P(Y=y)} = \\cfrac{f_{X,Y}(x,y)}{f_Y(y)}$\n",
      "\n",
      "For continuous random variables, the **conditional probability density function** is<br>\n",
      "$f_{X|Y}(x|y) = \\cfrac{f_{X,Y}(x,y)}{f_Y(y)}$<br>\n",
      "assuming $f_Y(y) > 0$.  Then<br>\n",
      "$P(X \\in A|Y=y) = \\int_A f_{X|Y}(x|y)dx$\n",
      "\n"
     ]
    },
    {
     "cell_type": "markdown",
     "metadata": {},
     "source": [
      "####Multivariate Distributions and IID Samples####\n",
      "\n",
      "If $X_1,...,X_n$ are independent and each has the same marginal distribution cith CDF F, we say that $X_1,...X_n$ are **independent and identically distributed** (IID)<br>\n",
      "$X_1,...,X_n \\sim F$"
     ]
    },
    {
     "cell_type": "code",
     "collapsed": false,
     "input": [],
     "language": "python",
     "metadata": {},
     "outputs": []
    }
   ],
   "metadata": {}
  }
 ]
}