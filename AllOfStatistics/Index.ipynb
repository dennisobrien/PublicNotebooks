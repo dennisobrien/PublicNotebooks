{
 "metadata": {
  "name": "",
  "signature": "sha256:8fc9c7c9ed8d38708aa5deaf2f37284090f606ba567bbb74f440460f63de325d"
 },
 "nbformat": 3,
 "nbformat_minor": 0,
 "worksheets": [
  {
   "cells": [
    {
     "cell_type": "heading",
     "level": 1,
     "metadata": {},
     "source": [
      "All of Statistics"
     ]
    },
    {
     "cell_type": "markdown",
     "metadata": {},
     "source": [
      "This is a collection of notebooks created while working through \"All of Statistict: A Concise Course in Statistical Inference\" by Larry Wasserman.\n",
      "\n",
      "Resources for the book including R code and data files are at the author's website.<br>\n",
      "http://www.stat.cmu.edu/~larry/all-of-statistics/index.html\n",
      "\n",
      "[Chapter 1: Probability](01_Probability.ipynb)"
     ]
    },
    {
     "cell_type": "code",
     "collapsed": false,
     "input": [],
     "language": "python",
     "metadata": {},
     "outputs": []
    }
   ],
   "metadata": {}
  }
 ]
}