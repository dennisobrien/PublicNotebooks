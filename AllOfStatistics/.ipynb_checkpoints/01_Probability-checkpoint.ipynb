{
 "metadata": {
  "name": "",
  "signature": "sha256:55eed138a0565abc823eef02660d3f147a2990dacf5ea443f117774cdbc99469"
 },
 "nbformat": 3,
 "nbformat_minor": 0,
 "worksheets": [
  {
   "cells": [
    {
     "cell_type": "heading",
     "level": 1,
     "metadata": {},
     "source": [
      "All of Statistics"
     ]
    },
    {
     "cell_type": "heading",
     "level": 2,
     "metadata": {},
     "source": [
      "Chapter 1:  Probability"
     ]
    },
    {
     "cell_type": "markdown",
     "metadata": {},
     "source": [
      "Some terminology:\n",
      "\n",
      "- $\\Omega$: the set of possible outcomes of an experiment.\n",
      "- $\\omega$: a sample outcome, realization, or element of $\\Omega$.\n",
      "- A: event, a subset of $\\Omega$.\n",
      "- $A^c$: complement of A (not A)\n",
      "- $A \\cup B$: union (A or B)\n",
      "- $A \\cap B$: intersection (A and B)\n",
      "- disjoint: $A \\cap B = \\emptyset$, also known as mutually exclusive\n",
      "- partition: a sequence of disjoint sets that can be unioned to make $\\Omega$\n",
      "- $A \\subset B$: A is a subset of B.\n",
      "- $A \\supset B$: A is a superset of B.\n",
      "\n",
      "Probability:\n",
      "\n",
      "- $\\mathbb{P}(A)$: the probability of event A\n",
      "- $\\mathbb{P}$: the probability distribution\n",
      "    - $\\mathbb{P}(A) >= 0$ for every A.\n",
      "    - $\\mathbb{P}(\\Omega) = 1$\n",
      "    - If $A_i$ are disjoint,<br>\n",
      "    $\\mathbb{P}(\\cup_{i=1}^{\\infty}A_i) = \\sum_{i=1}^{\\infty}\\mathbb{P}(A_i)$\n",
      "\n",
      "Combinatorics:\n",
      "\n",
      "- n choose k: $\\binom{n}{k} = \\frac{n!}{k!(n-k)!}$<br>\n",
      "Number of distinct ways of choosing k items from n.\n",
      "\n",
      "Independent Events\n",
      "- independent: $\\mathbb{P}(AB) = \\mathbb{P}(A)\\mathbb{P}(B)$"
     ]
    },
    {
     "cell_type": "code",
     "collapsed": false,
     "input": [],
     "language": "python",
     "metadata": {},
     "outputs": []
    }
   ],
   "metadata": {}
  }
 ]
}