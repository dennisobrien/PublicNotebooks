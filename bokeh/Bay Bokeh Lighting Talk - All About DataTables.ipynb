{
 "cells": [
  {
   "cell_type": "markdown",
   "metadata": {},
   "source": [
    "# All About DataTables\n",
    "\n",
    "- Display tabular data.\n",
    "- Built on slickgrid.\n",
    "- Sortable, filterable."
   ]
  },
  {
   "cell_type": "code",
   "execution_count": 1,
   "metadata": {
    "collapsed": false
   },
   "outputs": [],
   "source": [
    "from bokeh.io import output_file\n",
    "output_file('/tmp/bokeh_notebook.html')"
   ]
  },
  {
   "cell_type": "markdown",
   "metadata": {},
   "source": [
    "## Sample Application: World Bank data explorer\n",
    "\n",
    "Use `pandas-datareader` to access World Bank data."
   ]
  },
  {
   "cell_type": "code",
   "execution_count": 2,
   "metadata": {
    "collapsed": false,
    "scrolled": false
   },
   "outputs": [
    {
     "data": {
      "text/html": [
       "<div>\n",
       "<table border=\"1\" class=\"dataframe\">\n",
       "  <thead>\n",
       "    <tr style=\"text-align: right;\">\n",
       "      <th></th>\n",
       "      <th>id</th>\n",
       "      <th>name</th>\n",
       "      <th>source</th>\n",
       "      <th>sourceNote</th>\n",
       "      <th>sourceOrganization</th>\n",
       "      <th>topics</th>\n",
       "    </tr>\n",
       "  </thead>\n",
       "  <tbody>\n",
       "    <tr>\n",
       "      <th>0</th>\n",
       "      <td>1.0.HCount.1.25usd</td>\n",
       "      <td>Poverty Headcount ($1.25 a day)</td>\n",
       "      <td>LAC Equity Lab</td>\n",
       "      <td>The poverty headcount index measures the propo...</td>\n",
       "      <td>LAC Equity Lab tabulations of SEDLAC (CEDLAS a...</td>\n",
       "      <td>Poverty</td>\n",
       "    </tr>\n",
       "    <tr>\n",
       "      <th>1</th>\n",
       "      <td>1.0.HCount.10usd</td>\n",
       "      <td>Under Middle Class ($10 a day) Headcount</td>\n",
       "      <td>LAC Equity Lab</td>\n",
       "      <td>The poverty headcount index measures the propo...</td>\n",
       "      <td>LAC Equity Lab tabulations of SEDLAC (CEDLAS a...</td>\n",
       "      <td>Poverty</td>\n",
       "    </tr>\n",
       "    <tr>\n",
       "      <th>2</th>\n",
       "      <td>1.0.HCount.2.5usd</td>\n",
       "      <td>Poverty Headcount ($2.50 a day)</td>\n",
       "      <td>LAC Equity Lab</td>\n",
       "      <td>The poverty headcount index measures the propo...</td>\n",
       "      <td>LAC Equity Lab tabulations of SEDLAC (CEDLAS a...</td>\n",
       "      <td>Poverty</td>\n",
       "    </tr>\n",
       "    <tr>\n",
       "      <th>3</th>\n",
       "      <td>1.0.HCount.Mid10to50</td>\n",
       "      <td>Middle Class ($10-50 a day) Headcount</td>\n",
       "      <td>LAC Equity Lab</td>\n",
       "      <td>The poverty headcount index measures the propo...</td>\n",
       "      <td>LAC Equity Lab tabulations of SEDLAC (CEDLAS a...</td>\n",
       "      <td>Poverty</td>\n",
       "    </tr>\n",
       "    <tr>\n",
       "      <th>4</th>\n",
       "      <td>1.0.HCount.Ofcl</td>\n",
       "      <td>Official Moderate Poverty Rate-National</td>\n",
       "      <td>LAC Equity Lab</td>\n",
       "      <td>The poverty headcount index measures the propo...</td>\n",
       "      <td>LAC Equity Lab tabulations of data from Nation...</td>\n",
       "      <td>Poverty</td>\n",
       "    </tr>\n",
       "  </tbody>\n",
       "</table>\n",
       "</div>"
      ],
      "text/plain": [
       "                     id                                      name  \\\n",
       "0    1.0.HCount.1.25usd           Poverty Headcount ($1.25 a day)   \n",
       "1      1.0.HCount.10usd  Under Middle Class ($10 a day) Headcount   \n",
       "2     1.0.HCount.2.5usd           Poverty Headcount ($2.50 a day)   \n",
       "3  1.0.HCount.Mid10to50     Middle Class ($10-50 a day) Headcount   \n",
       "4       1.0.HCount.Ofcl   Official Moderate Poverty Rate-National   \n",
       "\n",
       "           source                                         sourceNote  \\\n",
       "0  LAC Equity Lab  The poverty headcount index measures the propo...   \n",
       "1  LAC Equity Lab  The poverty headcount index measures the propo...   \n",
       "2  LAC Equity Lab  The poverty headcount index measures the propo...   \n",
       "3  LAC Equity Lab  The poverty headcount index measures the propo...   \n",
       "4  LAC Equity Lab  The poverty headcount index measures the propo...   \n",
       "\n",
       "                                  sourceOrganization    topics  \n",
       "0  LAC Equity Lab tabulations of SEDLAC (CEDLAS a...  Poverty   \n",
       "1  LAC Equity Lab tabulations of SEDLAC (CEDLAS a...  Poverty   \n",
       "2  LAC Equity Lab tabulations of SEDLAC (CEDLAS a...  Poverty   \n",
       "3  LAC Equity Lab tabulations of SEDLAC (CEDLAS a...  Poverty   \n",
       "4  LAC Equity Lab tabulations of data from Nation...  Poverty   "
      ]
     },
     "execution_count": 2,
     "metadata": {},
     "output_type": "execute_result"
    }
   ],
   "source": [
    "from pandas_datareader import wb\n",
    "indicators_df = wb.get_indicators()\n",
    "indicators_df['sourceOrganization'] = indicators_df['sourceOrganization'].str.decode(\"utf-8\") \n",
    "indicators_df.head()"
   ]
  },
  {
   "cell_type": "markdown",
   "metadata": {},
   "source": [
    "## Simple DataTable\n",
    "\n",
    "- Sortable\n",
    "- Scrollable"
   ]
  },
  {
   "cell_type": "code",
   "execution_count": 4,
   "metadata": {
    "collapsed": false
   },
   "outputs": [],
   "source": [
    "from bokeh.io import show, vform\n",
    "from bokeh.models import ColumnDataSource, CustomJS\n",
    "from bokeh.models.layouts import HBox\n",
    "from bokeh.models.widgets import DataTable, TableColumn, StringFormatter, DateFormatter, Select\n",
    "import pandas as pd\n",
    "\n",
    "\n",
    "table_columns = [\n",
    "    TableColumn(field='id', title='ID'),\n",
    "    TableColumn(field='name', title='Name'),\n",
    "    TableColumn(field='source', title='Source'),\n",
    "    TableColumn(field='sourceNote', title='Source Note'),\n",
    "    TableColumn(field='sourceOrganization', title='Source Organization'),\n",
    "    TableColumn(field='topics', title='Topics'),\n",
    "]\n",
    "column_names = [tc.field for tc in table_columns]\n",
    "table_source = ColumnDataSource(indicators_df[column_names])\n",
    "\n",
    "data_table = DataTable(source=table_source, columns=table_columns, height=400, editable=False)\n",
    "show(vform(data_table))"
   ]
  },
  {
   "cell_type": "markdown",
   "metadata": {
    "collapsed": false
   },
   "source": [
    "## Add Filtering\n",
    "\n",
    "- Add two filter widgets.\n",
    "- Use CustomJS to alter the displayed data."
   ]
  },
  {
   "cell_type": "code",
   "execution_count": 5,
   "metadata": {
    "collapsed": false,
    "scrolled": false
   },
   "outputs": [],
   "source": [
    "# two widgets\n",
    "source_list = ['ALL'] + sorted(indicators_df['source'].unique().tolist())\n",
    "source_select = Select(title=\"Source:\", value=source_list[0], options=source_list)\n",
    "topic_list = ['ALL'] + sorted(set([topic.strip() for topics in indicators_df['topics'].unique().tolist() \n",
    "                                                 for topic in topics.split(';') if topic.strip()]))\n",
    "topic_select = Select(title=\"Topic:\", value=topic_list[0], options=topic_list)\n",
    "\n",
    "# make a copy of the original data - \"immutable\"\n",
    "original_table_source = ColumnDataSource(indicators_df[column_names])\n",
    "\n",
    "arg_dct = dict(\n",
    "    source=table_source,\n",
    "    original_source=original_table_source,\n",
    "    source_select=source_select,\n",
    "    topic_select=topic_select,\n",
    "    target_obj=data_table\n",
    ")\n",
    "\n",
    "# filtering done in JS\n",
    "callback_code = \"\"\"\n",
    "    var data = source.get('data');\n",
    "    var original_data = original_source.get('data');\n",
    "    var source_name = source_select.get('value');\n",
    "    var topic_name = topic_select.get('value');\n",
    "    \n",
    "    // now construct the new data object based on the filtered values\n",
    "    for (var key in original_data) {\n",
    "        data[key] = [];\n",
    "        for (var i = 0; i < original_data[\"id\"].length; ++i) {\n",
    "            if ((source_name === \"ALL\" || original_data[\"source\"][i] === source_name) &&\n",
    "                (topic_name === \"ALL\" || original_data[\"topics\"][i].indexOf(topic_name) > -1)) {\n",
    "                data[key].push(original_data[key][i]);\n",
    "            }\n",
    "        }\n",
    "    }\n",
    "    target_obj.trigger('change');\n",
    "    source.trigger('change');\n",
    "\"\"\"\n",
    "generic_callback = CustomJS(args=arg_dct, code=callback_code)\n",
    "source_select.callback = generic_callback\n",
    "topic_select.callback = generic_callback\n",
    "\n",
    "filter_widgets = HBox(children=[source_select, topic_select])\n",
    "show(vform(filter_widgets, data_table))"
   ]
  },
  {
   "cell_type": "markdown",
   "metadata": {
    "collapsed": false
   },
   "source": [
    "## Links"
   ]
  },
  {
   "cell_type": "code",
   "execution_count": 19,
   "metadata": {
    "collapsed": false
   },
   "outputs": [],
   "source": [
    "from bokeh.models.widgets.tables import HTMLTemplateFormatter\n",
    "try:\n",
    "    from urllib import quote\n",
    "except ImportError as e:\n",
    "    from urllib.parse import quote\n",
    "\n",
    "\n",
    "name_template_str = '<a target=\"_blank\" href=\"<%= url %>\"><%= value %></a>'\n",
    "\n",
    "table_columns = [\n",
    "    TableColumn(field='id', title='ID'),\n",
    "    TableColumn(field='name', title='Name', formatter=HTMLTemplateFormatter(template=name_template_str)),\n",
    "    TableColumn(field='source', title='Source'),\n",
    "    TableColumn(field='sourceNote', title='Source Note'),\n",
    "    TableColumn(field='sourceOrganization', title='Source Organization'),\n",
    "    TableColumn(field='topics', title='Topics'),\n",
    "]\n",
    "column_names = [tc.field for tc in table_columns]\n",
    "df = indicators_df.copy()\n",
    "df['url'] = df['name'].apply(lambda s: 'http://search.worldbank.org/all?qterm={term}&language=EN'.format(term=quote(s)))\n",
    "table_source = ColumnDataSource(df)\n",
    "\n",
    "data_table = DataTable(source=table_source, columns=table_columns, height=400, editable=False)\n",
    "show(vform(data_table))"
   ]
  },
  {
   "cell_type": "code",
   "execution_count": null,
   "metadata": {
    "collapsed": true
   },
   "outputs": [],
   "source": []
  }
 ],
 "metadata": {
  "kernelspec": {
   "display_name": "Python 3",
   "language": "python",
   "name": "python3"
  },
  "language_info": {
   "codemirror_mode": {
    "name": "ipython",
    "version": 3
   },
   "file_extension": ".py",
   "mimetype": "text/x-python",
   "name": "python",
   "nbconvert_exporter": "python",
   "pygments_lexer": "ipython3",
   "version": "3.4.3"
  }
 },
 "nbformat": 4,
 "nbformat_minor": 0
}
