{
 "cells": [
  {
   "cell_type": "markdown",
   "metadata": {},
   "source": [
    "#Spelling Bee\n",
    "\n",
    "A solver for the New York Times puzzle."
   ]
  },
  {
   "cell_type": "code",
   "execution_count": 24,
   "metadata": {
    "collapsed": false
   },
   "outputs": [
    {
     "data": {
      "text/plain": [
       "['annette',\n",
       " 'atman',\n",
       " 'bataan',\n",
       " 'batman',\n",
       " 'benet',\n",
       " 'bennett',\n",
       " 'bette',\n",
       " 'emmett',\n",
       " 'mamet',\n",
       " 'manet',\n",
       " 'menkent',\n",
       " 'nanette',\n",
       " 'tameka',\n",
       " 'abate',\n",
       " 'abatement',\n",
       " 'antenna',\n",
       " 'antennae',\n",
       " 'bantam',\n",
       " 'batten',\n",
       " 'beaten',\n",
       " 'betake',\n",
       " 'betaken',\n",
       " 'eaten',\n",
       " 'emanate',\n",
       " 'embankment',\n",
       " 'enemata',\n",
       " 'entente',\n",
       " 'manatee',\n",
       " 'matte',\n",
       " 'meant',\n",
       " 'taken',\n",
       " 'teammate',\n",
       " 'tenant',\n",
       " 'tenement',\n",
       " 'tenet']"
      ]
     },
     "execution_count": 24,
     "metadata": {},
     "output_type": "execute_result"
    }
   ],
   "source": [
    "def get_matching_words(center_letter, other_letters, min_word_length=5):\n",
    "    words = []\n",
    "    required_letters = set(center_letter).union(set(other_letters))\n",
    "    with open('/usr/share/dict/american-english', 'r') as f:\n",
    "        for word in f:\n",
    "            word = word.strip().lower()\n",
    "            if len(word) < min_word_length:\n",
    "                continue\n",
    "            if center_letter not in word:\n",
    "                continue\n",
    "            if set(word).difference(required_letters):\n",
    "                continue\n",
    "            words.append(word)\n",
    "    return words\n",
    "\n",
    "matching_words = get_matching_words('t', ('a', 'b', 'e', 'k', 'm', 'n'))\n",
    "matching_words"
   ]
  },
  {
   "cell_type": "code",
   "execution_count": null,
   "metadata": {
    "collapsed": true
   },
   "outputs": [],
   "source": []
  }
 ],
 "metadata": {
  "kernelspec": {
   "display_name": "Python 3",
   "language": "python",
   "name": "python3"
  },
  "language_info": {
   "codemirror_mode": {
    "name": "ipython",
    "version": 3
   },
   "file_extension": ".py",
   "mimetype": "text/x-python",
   "name": "python",
   "nbconvert_exporter": "python",
   "pygments_lexer": "ipython3",
   "version": "3.4.3"
  }
 },
 "nbformat": 4,
 "nbformat_minor": 0
}
